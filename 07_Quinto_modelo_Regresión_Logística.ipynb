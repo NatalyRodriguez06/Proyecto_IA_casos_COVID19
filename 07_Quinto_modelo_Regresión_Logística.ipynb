{
  "nbformat": 4,
  "nbformat_minor": 0,
  "metadata": {
    "colab": {
      "provenance": [],
      "collapsed_sections": []
    },
    "kernelspec": {
      "name": "python3",
      "display_name": "Python 3"
    },
    "language_info": {
      "name": "python"
    }
  },
  "cells": [
    {
      "cell_type": "markdown",
      "source": [
        "# Construcción modelo de regresión logistica\n",
        "\n",
        "##Integrantes\n",
        "\n",
        "*   Juan Camilo Cataño Zuleta C.C 1001505918\n",
        "*   Nataly Rodriguez Atehortua C.C 1001505918\n",
        "*   Daniel Enrique López Yepes C.C 1000407016\n",
        "\n",
        "##Información del modelo\n",
        "\n",
        "**Tipo:** Clasificación\n",
        "\n",
        "**Descripción:** Este algoritmo busca predecir el estado actual de la pandemia en base a una clasificación de 3 niveles. Al algoritmo se le debe pasar un vector con distintos valores y este deberá arrojar el nivel de peligro que se predice.  "
      ],
      "metadata": {
        "id": "44DJ5wDEqIjP"
      }
    },
    {
      "cell_type": "markdown",
      "source": [
        "## Ejecución de librerías y carga de datos"
      ],
      "metadata": {
        "id": "1Taqp4-hlXNI"
      }
    },
    {
      "cell_type": "markdown",
      "source": [
        "Lo primero es instalar las librerías que son necesarias para el proyecto"
      ],
      "metadata": {
        "id": "UpDZOhiyhEBn"
      }
    },
    {
      "cell_type": "code",
      "source": [
        "#Librerías de Machine Learning\n",
        "from sklearn.model_selection import train_test_split\n",
        "from sklearn.linear_model import LogisticRegression\n",
        "from sklearn import metrics\n",
        "from sklearn.model_selection import KFold\n",
        "from sklearn.model_selection import cross_validate\n",
        "from sklearn.model_selection import train_test_split\n",
        "from sklearn.metrics import confusion_matrix\n",
        "from sklearn.metrics import plot_confusion_matrix\n",
        "from sklearn.ensemble import RandomForestClassifier\n",
        "from sklearn.metrics import classification_report\n",
        "from sklearn.metrics import recall_score\n",
        "from sklearn import metrics\n",
        "from sklearn.model_selection import learning_curve\n"
      ],
      "metadata": {
        "id": "iMVMO4cvsLhK"
      },
      "execution_count": null,
      "outputs": []
    },
    {
      "cell_type": "code",
      "source": [
        "#Instalo librerías que me van a ser útiles\n",
        "import numpy as np\n",
        "import matplotlib.pyplot as plt\n",
        "import pandas as pd\n",
        "\n",
        "import math\n",
        "\n",
        "from IPython import display\n",
        "from matplotlib import cm\n",
        "from matplotlib import gridspec\n",
        "from matplotlib import pyplot as plt\n",
        "import numpy as np\n",
        "import pandas as pd\n",
        "from sklearn import metrics"
      ],
      "metadata": {
        "id": "WPtjTWvouQod"
      },
      "execution_count": null,
      "outputs": []
    },
    {
      "cell_type": "markdown",
      "source": [
        "Lo siguiente es subir el aarchivo kaggle.json para poder descargar los archivos más adelante"
      ],
      "metadata": {
        "id": "LSaAxiLZhHXZ"
      }
    },
    {
      "cell_type": "code",
      "source": [
        "#Importamos los archivos de colab\n",
        "from google.colab import files\n",
        "\n",
        "#Subimos el .json\n",
        "files.upload() #buscan el archivo kaggle.json en su ordenador\n",
        "\n",
        "#Reubicamos el .json y descargamos el set de datos\n",
        "! mkdir ~/.kaggle\n",
        "! cp kaggle.json ~/.kaggle/\n",
        "! chmod 600 ~/.kaggle/kaggle.json"
      ],
      "metadata": {
        "colab": {
          "base_uri": "https://localhost:8080/",
          "height": 73
        },
        "id": "p7ZnFLXuhDHS",
        "outputId": "049eafda-ffc8-4bb7-adb2-270e3191f69f"
      },
      "execution_count": null,
      "outputs": [
        {
          "output_type": "display_data",
          "data": {
            "text/plain": [
              "<IPython.core.display.HTML object>"
            ],
            "text/html": [
              "\n",
              "     <input type=\"file\" id=\"files-97b27e7f-5574-4fe9-80f8-b069bdf551da\" name=\"files[]\" multiple disabled\n",
              "        style=\"border:none\" />\n",
              "     <output id=\"result-97b27e7f-5574-4fe9-80f8-b069bdf551da\">\n",
              "      Upload widget is only available when the cell has been executed in the\n",
              "      current browser session. Please rerun this cell to enable.\n",
              "      </output>\n",
              "      <script>// Copyright 2017 Google LLC\n",
              "//\n",
              "// Licensed under the Apache License, Version 2.0 (the \"License\");\n",
              "// you may not use this file except in compliance with the License.\n",
              "// You may obtain a copy of the License at\n",
              "//\n",
              "//      http://www.apache.org/licenses/LICENSE-2.0\n",
              "//\n",
              "// Unless required by applicable law or agreed to in writing, software\n",
              "// distributed under the License is distributed on an \"AS IS\" BASIS,\n",
              "// WITHOUT WARRANTIES OR CONDITIONS OF ANY KIND, either express or implied.\n",
              "// See the License for the specific language governing permissions and\n",
              "// limitations under the License.\n",
              "\n",
              "/**\n",
              " * @fileoverview Helpers for google.colab Python module.\n",
              " */\n",
              "(function(scope) {\n",
              "function span(text, styleAttributes = {}) {\n",
              "  const element = document.createElement('span');\n",
              "  element.textContent = text;\n",
              "  for (const key of Object.keys(styleAttributes)) {\n",
              "    element.style[key] = styleAttributes[key];\n",
              "  }\n",
              "  return element;\n",
              "}\n",
              "\n",
              "// Max number of bytes which will be uploaded at a time.\n",
              "const MAX_PAYLOAD_SIZE = 100 * 1024;\n",
              "\n",
              "function _uploadFiles(inputId, outputId) {\n",
              "  const steps = uploadFilesStep(inputId, outputId);\n",
              "  const outputElement = document.getElementById(outputId);\n",
              "  // Cache steps on the outputElement to make it available for the next call\n",
              "  // to uploadFilesContinue from Python.\n",
              "  outputElement.steps = steps;\n",
              "\n",
              "  return _uploadFilesContinue(outputId);\n",
              "}\n",
              "\n",
              "// This is roughly an async generator (not supported in the browser yet),\n",
              "// where there are multiple asynchronous steps and the Python side is going\n",
              "// to poll for completion of each step.\n",
              "// This uses a Promise to block the python side on completion of each step,\n",
              "// then passes the result of the previous step as the input to the next step.\n",
              "function _uploadFilesContinue(outputId) {\n",
              "  const outputElement = document.getElementById(outputId);\n",
              "  const steps = outputElement.steps;\n",
              "\n",
              "  const next = steps.next(outputElement.lastPromiseValue);\n",
              "  return Promise.resolve(next.value.promise).then((value) => {\n",
              "    // Cache the last promise value to make it available to the next\n",
              "    // step of the generator.\n",
              "    outputElement.lastPromiseValue = value;\n",
              "    return next.value.response;\n",
              "  });\n",
              "}\n",
              "\n",
              "/**\n",
              " * Generator function which is called between each async step of the upload\n",
              " * process.\n",
              " * @param {string} inputId Element ID of the input file picker element.\n",
              " * @param {string} outputId Element ID of the output display.\n",
              " * @return {!Iterable<!Object>} Iterable of next steps.\n",
              " */\n",
              "function* uploadFilesStep(inputId, outputId) {\n",
              "  const inputElement = document.getElementById(inputId);\n",
              "  inputElement.disabled = false;\n",
              "\n",
              "  const outputElement = document.getElementById(outputId);\n",
              "  outputElement.innerHTML = '';\n",
              "\n",
              "  const pickedPromise = new Promise((resolve) => {\n",
              "    inputElement.addEventListener('change', (e) => {\n",
              "      resolve(e.target.files);\n",
              "    });\n",
              "  });\n",
              "\n",
              "  const cancel = document.createElement('button');\n",
              "  inputElement.parentElement.appendChild(cancel);\n",
              "  cancel.textContent = 'Cancel upload';\n",
              "  const cancelPromise = new Promise((resolve) => {\n",
              "    cancel.onclick = () => {\n",
              "      resolve(null);\n",
              "    };\n",
              "  });\n",
              "\n",
              "  // Wait for the user to pick the files.\n",
              "  const files = yield {\n",
              "    promise: Promise.race([pickedPromise, cancelPromise]),\n",
              "    response: {\n",
              "      action: 'starting',\n",
              "    }\n",
              "  };\n",
              "\n",
              "  cancel.remove();\n",
              "\n",
              "  // Disable the input element since further picks are not allowed.\n",
              "  inputElement.disabled = true;\n",
              "\n",
              "  if (!files) {\n",
              "    return {\n",
              "      response: {\n",
              "        action: 'complete',\n",
              "      }\n",
              "    };\n",
              "  }\n",
              "\n",
              "  for (const file of files) {\n",
              "    const li = document.createElement('li');\n",
              "    li.append(span(file.name, {fontWeight: 'bold'}));\n",
              "    li.append(span(\n",
              "        `(${file.type || 'n/a'}) - ${file.size} bytes, ` +\n",
              "        `last modified: ${\n",
              "            file.lastModifiedDate ? file.lastModifiedDate.toLocaleDateString() :\n",
              "                                    'n/a'} - `));\n",
              "    const percent = span('0% done');\n",
              "    li.appendChild(percent);\n",
              "\n",
              "    outputElement.appendChild(li);\n",
              "\n",
              "    const fileDataPromise = new Promise((resolve) => {\n",
              "      const reader = new FileReader();\n",
              "      reader.onload = (e) => {\n",
              "        resolve(e.target.result);\n",
              "      };\n",
              "      reader.readAsArrayBuffer(file);\n",
              "    });\n",
              "    // Wait for the data to be ready.\n",
              "    let fileData = yield {\n",
              "      promise: fileDataPromise,\n",
              "      response: {\n",
              "        action: 'continue',\n",
              "      }\n",
              "    };\n",
              "\n",
              "    // Use a chunked sending to avoid message size limits. See b/62115660.\n",
              "    let position = 0;\n",
              "    do {\n",
              "      const length = Math.min(fileData.byteLength - position, MAX_PAYLOAD_SIZE);\n",
              "      const chunk = new Uint8Array(fileData, position, length);\n",
              "      position += length;\n",
              "\n",
              "      const base64 = btoa(String.fromCharCode.apply(null, chunk));\n",
              "      yield {\n",
              "        response: {\n",
              "          action: 'append',\n",
              "          file: file.name,\n",
              "          data: base64,\n",
              "        },\n",
              "      };\n",
              "\n",
              "      let percentDone = fileData.byteLength === 0 ?\n",
              "          100 :\n",
              "          Math.round((position / fileData.byteLength) * 100);\n",
              "      percent.textContent = `${percentDone}% done`;\n",
              "\n",
              "    } while (position < fileData.byteLength);\n",
              "  }\n",
              "\n",
              "  // All done.\n",
              "  yield {\n",
              "    response: {\n",
              "      action: 'complete',\n",
              "    }\n",
              "  };\n",
              "}\n",
              "\n",
              "scope.google = scope.google || {};\n",
              "scope.google.colab = scope.google.colab || {};\n",
              "scope.google.colab._files = {\n",
              "  _uploadFiles,\n",
              "  _uploadFilesContinue,\n",
              "};\n",
              "})(self);\n",
              "</script> "
            ]
          },
          "metadata": {}
        },
        {
          "output_type": "stream",
          "name": "stdout",
          "text": [
            "Saving kaggle.json to kaggle.json\n"
          ]
        }
      ]
    },
    {
      "cell_type": "markdown",
      "source": [
        "Ahora descargamos el set de datos"
      ],
      "metadata": {
        "id": "lGwaolQ4hNXa"
      }
    },
    {
      "cell_type": "code",
      "source": [
        "#Se descarga el nuevo set de datos\n",
        "!kaggle datasets download -d georgesaavedra/covid19-dataset"
      ],
      "metadata": {
        "colab": {
          "base_uri": "https://localhost:8080/"
        },
        "id": "9qcx7eknhQH7",
        "outputId": "a9164124-d9b7-417c-d0e6-2bfd2f1be5c8"
      },
      "execution_count": null,
      "outputs": [
        {
          "output_type": "stream",
          "name": "stdout",
          "text": [
            "Downloading covid19-dataset.zip to /content\n",
            "\r  0% 0.00/9.09M [00:00<?, ?B/s]\r 55% 5.00M/9.09M [00:00<00:00, 31.0MB/s]\n",
            "\r100% 9.09M/9.09M [00:00<00:00, 51.7MB/s]\n"
          ]
        }
      ]
    },
    {
      "cell_type": "markdown",
      "source": [
        "Y lo descomprimimos"
      ],
      "metadata": {
        "id": "gHU7-wDBhSFc"
      }
    },
    {
      "cell_type": "code",
      "source": [
        "#Se descomprime\n",
        "!unzip /content/covid19-dataset.zip"
      ],
      "metadata": {
        "colab": {
          "base_uri": "https://localhost:8080/"
        },
        "id": "EwG0xUs-hRlt",
        "outputId": "2675cf08-7619-41cf-c18d-29365df66f33"
      },
      "execution_count": null,
      "outputs": [
        {
          "output_type": "stream",
          "name": "stdout",
          "text": [
            "Archive:  /content/covid19-dataset.zip\n",
            "  inflating: owid-covid-data.csv     \n"
          ]
        }
      ]
    },
    {
      "cell_type": "markdown",
      "source": [
        "Ahora cargo el csv"
      ],
      "metadata": {
        "id": "lWK_m6lGhimm"
      }
    },
    {
      "cell_type": "code",
      "source": [
        "dataset=pd.read_csv('owid-covid-data.csv') "
      ],
      "metadata": {
        "id": "6FljjubOhj1H"
      },
      "execution_count": null,
      "outputs": []
    },
    {
      "cell_type": "markdown",
      "source": [
        "## Preprocesamiento y selección de valores"
      ],
      "metadata": {
        "id": "GPcRFY8slcnC"
      }
    },
    {
      "cell_type": "markdown",
      "source": [
        "Lo primero será establecer cuáles son las columnas con las que se va a trabajar, estas serán:\n",
        "\n",
        "*   **Nuevos casos** (new_cases): Se usará este parámetro con el fin de conocer cómo son los nuevos contagios en el país.\n",
        "*   **Nuevas muertes** (new_deaths): Se usará este parámetro con el fin de conocer cómo es la tasa de mortalidad de la enfermedad.\n",
        "*   **Admisiones en UCI semanales** (\tweekly_icu_admissions): Se usará este parámetro con el fin de conocer cómo es la relación de pacientes en UCI.\n",
        "*   **Población** (population): Se usará este parámetro con el fin de aterrizar los anteriores valores dado el contexto del país.\n",
        "\n"
      ],
      "metadata": {
        "id": "8uDN0O3mhcvU"
      }
    },
    {
      "cell_type": "code",
      "source": [
        "#Ahora generamos el dataframe con la información que se necesita\n",
        "\n",
        "#Primero elijo los datos que son obligatorios de reportar, estos serán el iso_code y la locación, es decir, el pais\n",
        "cols_obligatory=[\"iso_code\",\"continent\",\"location\"]\n",
        "\n",
        "#Ahora elijo los datos con los que procesaré la información\n",
        "cols_selected = [\"new_cases\",\"new_deaths\",\"weekly_icu_admissions\",\"population\"]\n",
        "\n",
        "#Ahora combino las columnas\n",
        "cols=[]\n",
        "\n",
        "for i in cols_obligatory:\n",
        "  cols.append(i)\n",
        "\n",
        "for i in cols_selected:\n",
        "  cols.append(i)\n",
        "\n",
        "#Ahora selecciono del dataset\n",
        "myData=dataset.loc[:,cols]\n",
        "\n",
        "#Ahora visualizo\n",
        "myData"
      ],
      "metadata": {
        "colab": {
          "base_uri": "https://localhost:8080/",
          "height": 424
        },
        "id": "6thtXiv9he3X",
        "outputId": "c996d249-25e1-413f-befc-e2517d491f29"
      },
      "execution_count": null,
      "outputs": [
        {
          "output_type": "execute_result",
          "data": {
            "text/plain": [
              "       iso_code continent     location  new_cases  new_deaths  \\\n",
              "0           AFG      Asia  Afghanistan        5.0         NaN   \n",
              "1           AFG      Asia  Afghanistan        0.0         NaN   \n",
              "2           AFG      Asia  Afghanistan        0.0         NaN   \n",
              "3           AFG      Asia  Afghanistan        0.0         NaN   \n",
              "4           AFG      Asia  Afghanistan        0.0         NaN   \n",
              "...         ...       ...          ...        ...         ...   \n",
              "166321      ZWE    Africa     Zimbabwe      491.0         0.0   \n",
              "166322      ZWE    Africa     Zimbabwe      632.0         1.0   \n",
              "166323      ZWE    Africa     Zimbabwe        0.0         0.0   \n",
              "166324      ZWE    Africa     Zimbabwe     1236.0         1.0   \n",
              "166325      ZWE    Africa     Zimbabwe      280.0         0.0   \n",
              "\n",
              "        weekly_icu_admissions  population  \n",
              "0                         NaN  39835428.0  \n",
              "1                         NaN  39835428.0  \n",
              "2                         NaN  39835428.0  \n",
              "3                         NaN  39835428.0  \n",
              "4                         NaN  39835428.0  \n",
              "...                       ...         ...  \n",
              "166321                    NaN  15092171.0  \n",
              "166322                    NaN  15092171.0  \n",
              "166323                    NaN  15092171.0  \n",
              "166324                    NaN  15092171.0  \n",
              "166325                    NaN  15092171.0  \n",
              "\n",
              "[166326 rows x 7 columns]"
            ],
            "text/html": [
              "\n",
              "  <div id=\"df-f19f1467-36df-4445-9a90-63da0c3a054d\">\n",
              "    <div class=\"colab-df-container\">\n",
              "      <div>\n",
              "<style scoped>\n",
              "    .dataframe tbody tr th:only-of-type {\n",
              "        vertical-align: middle;\n",
              "    }\n",
              "\n",
              "    .dataframe tbody tr th {\n",
              "        vertical-align: top;\n",
              "    }\n",
              "\n",
              "    .dataframe thead th {\n",
              "        text-align: right;\n",
              "    }\n",
              "</style>\n",
              "<table border=\"1\" class=\"dataframe\">\n",
              "  <thead>\n",
              "    <tr style=\"text-align: right;\">\n",
              "      <th></th>\n",
              "      <th>iso_code</th>\n",
              "      <th>continent</th>\n",
              "      <th>location</th>\n",
              "      <th>new_cases</th>\n",
              "      <th>new_deaths</th>\n",
              "      <th>weekly_icu_admissions</th>\n",
              "      <th>population</th>\n",
              "    </tr>\n",
              "  </thead>\n",
              "  <tbody>\n",
              "    <tr>\n",
              "      <th>0</th>\n",
              "      <td>AFG</td>\n",
              "      <td>Asia</td>\n",
              "      <td>Afghanistan</td>\n",
              "      <td>5.0</td>\n",
              "      <td>NaN</td>\n",
              "      <td>NaN</td>\n",
              "      <td>39835428.0</td>\n",
              "    </tr>\n",
              "    <tr>\n",
              "      <th>1</th>\n",
              "      <td>AFG</td>\n",
              "      <td>Asia</td>\n",
              "      <td>Afghanistan</td>\n",
              "      <td>0.0</td>\n",
              "      <td>NaN</td>\n",
              "      <td>NaN</td>\n",
              "      <td>39835428.0</td>\n",
              "    </tr>\n",
              "    <tr>\n",
              "      <th>2</th>\n",
              "      <td>AFG</td>\n",
              "      <td>Asia</td>\n",
              "      <td>Afghanistan</td>\n",
              "      <td>0.0</td>\n",
              "      <td>NaN</td>\n",
              "      <td>NaN</td>\n",
              "      <td>39835428.0</td>\n",
              "    </tr>\n",
              "    <tr>\n",
              "      <th>3</th>\n",
              "      <td>AFG</td>\n",
              "      <td>Asia</td>\n",
              "      <td>Afghanistan</td>\n",
              "      <td>0.0</td>\n",
              "      <td>NaN</td>\n",
              "      <td>NaN</td>\n",
              "      <td>39835428.0</td>\n",
              "    </tr>\n",
              "    <tr>\n",
              "      <th>4</th>\n",
              "      <td>AFG</td>\n",
              "      <td>Asia</td>\n",
              "      <td>Afghanistan</td>\n",
              "      <td>0.0</td>\n",
              "      <td>NaN</td>\n",
              "      <td>NaN</td>\n",
              "      <td>39835428.0</td>\n",
              "    </tr>\n",
              "    <tr>\n",
              "      <th>...</th>\n",
              "      <td>...</td>\n",
              "      <td>...</td>\n",
              "      <td>...</td>\n",
              "      <td>...</td>\n",
              "      <td>...</td>\n",
              "      <td>...</td>\n",
              "      <td>...</td>\n",
              "    </tr>\n",
              "    <tr>\n",
              "      <th>166321</th>\n",
              "      <td>ZWE</td>\n",
              "      <td>Africa</td>\n",
              "      <td>Zimbabwe</td>\n",
              "      <td>491.0</td>\n",
              "      <td>0.0</td>\n",
              "      <td>NaN</td>\n",
              "      <td>15092171.0</td>\n",
              "    </tr>\n",
              "    <tr>\n",
              "      <th>166322</th>\n",
              "      <td>ZWE</td>\n",
              "      <td>Africa</td>\n",
              "      <td>Zimbabwe</td>\n",
              "      <td>632.0</td>\n",
              "      <td>1.0</td>\n",
              "      <td>NaN</td>\n",
              "      <td>15092171.0</td>\n",
              "    </tr>\n",
              "    <tr>\n",
              "      <th>166323</th>\n",
              "      <td>ZWE</td>\n",
              "      <td>Africa</td>\n",
              "      <td>Zimbabwe</td>\n",
              "      <td>0.0</td>\n",
              "      <td>0.0</td>\n",
              "      <td>NaN</td>\n",
              "      <td>15092171.0</td>\n",
              "    </tr>\n",
              "    <tr>\n",
              "      <th>166324</th>\n",
              "      <td>ZWE</td>\n",
              "      <td>Africa</td>\n",
              "      <td>Zimbabwe</td>\n",
              "      <td>1236.0</td>\n",
              "      <td>1.0</td>\n",
              "      <td>NaN</td>\n",
              "      <td>15092171.0</td>\n",
              "    </tr>\n",
              "    <tr>\n",
              "      <th>166325</th>\n",
              "      <td>ZWE</td>\n",
              "      <td>Africa</td>\n",
              "      <td>Zimbabwe</td>\n",
              "      <td>280.0</td>\n",
              "      <td>0.0</td>\n",
              "      <td>NaN</td>\n",
              "      <td>15092171.0</td>\n",
              "    </tr>\n",
              "  </tbody>\n",
              "</table>\n",
              "<p>166326 rows × 7 columns</p>\n",
              "</div>\n",
              "      <button class=\"colab-df-convert\" onclick=\"convertToInteractive('df-f19f1467-36df-4445-9a90-63da0c3a054d')\"\n",
              "              title=\"Convert this dataframe to an interactive table.\"\n",
              "              style=\"display:none;\">\n",
              "        \n",
              "  <svg xmlns=\"http://www.w3.org/2000/svg\" height=\"24px\"viewBox=\"0 0 24 24\"\n",
              "       width=\"24px\">\n",
              "    <path d=\"M0 0h24v24H0V0z\" fill=\"none\"/>\n",
              "    <path d=\"M18.56 5.44l.94 2.06.94-2.06 2.06-.94-2.06-.94-.94-2.06-.94 2.06-2.06.94zm-11 1L8.5 8.5l.94-2.06 2.06-.94-2.06-.94L8.5 2.5l-.94 2.06-2.06.94zm10 10l.94 2.06.94-2.06 2.06-.94-2.06-.94-.94-2.06-.94 2.06-2.06.94z\"/><path d=\"M17.41 7.96l-1.37-1.37c-.4-.4-.92-.59-1.43-.59-.52 0-1.04.2-1.43.59L10.3 9.45l-7.72 7.72c-.78.78-.78 2.05 0 2.83L4 21.41c.39.39.9.59 1.41.59.51 0 1.02-.2 1.41-.59l7.78-7.78 2.81-2.81c.8-.78.8-2.07 0-2.86zM5.41 20L4 18.59l7.72-7.72 1.47 1.35L5.41 20z\"/>\n",
              "  </svg>\n",
              "      </button>\n",
              "      \n",
              "  <style>\n",
              "    .colab-df-container {\n",
              "      display:flex;\n",
              "      flex-wrap:wrap;\n",
              "      gap: 12px;\n",
              "    }\n",
              "\n",
              "    .colab-df-convert {\n",
              "      background-color: #E8F0FE;\n",
              "      border: none;\n",
              "      border-radius: 50%;\n",
              "      cursor: pointer;\n",
              "      display: none;\n",
              "      fill: #1967D2;\n",
              "      height: 32px;\n",
              "      padding: 0 0 0 0;\n",
              "      width: 32px;\n",
              "    }\n",
              "\n",
              "    .colab-df-convert:hover {\n",
              "      background-color: #E2EBFA;\n",
              "      box-shadow: 0px 1px 2px rgba(60, 64, 67, 0.3), 0px 1px 3px 1px rgba(60, 64, 67, 0.15);\n",
              "      fill: #174EA6;\n",
              "    }\n",
              "\n",
              "    [theme=dark] .colab-df-convert {\n",
              "      background-color: #3B4455;\n",
              "      fill: #D2E3FC;\n",
              "    }\n",
              "\n",
              "    [theme=dark] .colab-df-convert:hover {\n",
              "      background-color: #434B5C;\n",
              "      box-shadow: 0px 1px 3px 1px rgba(0, 0, 0, 0.15);\n",
              "      filter: drop-shadow(0px 1px 2px rgba(0, 0, 0, 0.3));\n",
              "      fill: #FFFFFF;\n",
              "    }\n",
              "  </style>\n",
              "\n",
              "      <script>\n",
              "        const buttonEl =\n",
              "          document.querySelector('#df-f19f1467-36df-4445-9a90-63da0c3a054d button.colab-df-convert');\n",
              "        buttonEl.style.display =\n",
              "          google.colab.kernel.accessAllowed ? 'block' : 'none';\n",
              "\n",
              "        async function convertToInteractive(key) {\n",
              "          const element = document.querySelector('#df-f19f1467-36df-4445-9a90-63da0c3a054d');\n",
              "          const dataTable =\n",
              "            await google.colab.kernel.invokeFunction('convertToInteractive',\n",
              "                                                     [key], {});\n",
              "          if (!dataTable) return;\n",
              "\n",
              "          const docLinkHtml = 'Like what you see? Visit the ' +\n",
              "            '<a target=\"_blank\" href=https://colab.research.google.com/notebooks/data_table.ipynb>data table notebook</a>'\n",
              "            + ' to learn more about interactive tables.';\n",
              "          element.innerHTML = '';\n",
              "          dataTable['output_type'] = 'display_data';\n",
              "          await google.colab.output.renderOutput(dataTable, element);\n",
              "          const docLink = document.createElement('div');\n",
              "          docLink.innerHTML = docLinkHtml;\n",
              "          element.appendChild(docLink);\n",
              "        }\n",
              "      </script>\n",
              "    </div>\n",
              "  </div>\n",
              "  "
            ]
          },
          "metadata": {},
          "execution_count": 7
        }
      ]
    },
    {
      "cell_type": "markdown",
      "source": [
        "Como se observa, falta información, por lo cual esta será llenada por ceros, pues se asumirá que ese día el registro no pudo ser tomado o aún no estaba siendo rastreado."
      ],
      "metadata": {
        "id": "FaoUc_anufk5"
      }
    },
    {
      "cell_type": "code",
      "source": [
        "#Relleno la información de ceros\n",
        "myData=myData.fillna(0)\n",
        "\n",
        "#Ahora visualizo la información\n",
        "myData"
      ],
      "metadata": {
        "colab": {
          "base_uri": "https://localhost:8080/",
          "height": 424
        },
        "id": "C5u1lcN6umoK",
        "outputId": "bb75604c-a2c1-49be-bce2-f3750a10c33e"
      },
      "execution_count": null,
      "outputs": [
        {
          "output_type": "execute_result",
          "data": {
            "text/plain": [
              "       iso_code continent     location  new_cases  new_deaths  \\\n",
              "0           AFG      Asia  Afghanistan        5.0         0.0   \n",
              "1           AFG      Asia  Afghanistan        0.0         0.0   \n",
              "2           AFG      Asia  Afghanistan        0.0         0.0   \n",
              "3           AFG      Asia  Afghanistan        0.0         0.0   \n",
              "4           AFG      Asia  Afghanistan        0.0         0.0   \n",
              "...         ...       ...          ...        ...         ...   \n",
              "166321      ZWE    Africa     Zimbabwe      491.0         0.0   \n",
              "166322      ZWE    Africa     Zimbabwe      632.0         1.0   \n",
              "166323      ZWE    Africa     Zimbabwe        0.0         0.0   \n",
              "166324      ZWE    Africa     Zimbabwe     1236.0         1.0   \n",
              "166325      ZWE    Africa     Zimbabwe      280.0         0.0   \n",
              "\n",
              "        weekly_icu_admissions  population  \n",
              "0                         0.0  39835428.0  \n",
              "1                         0.0  39835428.0  \n",
              "2                         0.0  39835428.0  \n",
              "3                         0.0  39835428.0  \n",
              "4                         0.0  39835428.0  \n",
              "...                       ...         ...  \n",
              "166321                    0.0  15092171.0  \n",
              "166322                    0.0  15092171.0  \n",
              "166323                    0.0  15092171.0  \n",
              "166324                    0.0  15092171.0  \n",
              "166325                    0.0  15092171.0  \n",
              "\n",
              "[166326 rows x 7 columns]"
            ],
            "text/html": [
              "\n",
              "  <div id=\"df-f899f3f6-a806-4974-925e-62dc0d18f068\">\n",
              "    <div class=\"colab-df-container\">\n",
              "      <div>\n",
              "<style scoped>\n",
              "    .dataframe tbody tr th:only-of-type {\n",
              "        vertical-align: middle;\n",
              "    }\n",
              "\n",
              "    .dataframe tbody tr th {\n",
              "        vertical-align: top;\n",
              "    }\n",
              "\n",
              "    .dataframe thead th {\n",
              "        text-align: right;\n",
              "    }\n",
              "</style>\n",
              "<table border=\"1\" class=\"dataframe\">\n",
              "  <thead>\n",
              "    <tr style=\"text-align: right;\">\n",
              "      <th></th>\n",
              "      <th>iso_code</th>\n",
              "      <th>continent</th>\n",
              "      <th>location</th>\n",
              "      <th>new_cases</th>\n",
              "      <th>new_deaths</th>\n",
              "      <th>weekly_icu_admissions</th>\n",
              "      <th>population</th>\n",
              "    </tr>\n",
              "  </thead>\n",
              "  <tbody>\n",
              "    <tr>\n",
              "      <th>0</th>\n",
              "      <td>AFG</td>\n",
              "      <td>Asia</td>\n",
              "      <td>Afghanistan</td>\n",
              "      <td>5.0</td>\n",
              "      <td>0.0</td>\n",
              "      <td>0.0</td>\n",
              "      <td>39835428.0</td>\n",
              "    </tr>\n",
              "    <tr>\n",
              "      <th>1</th>\n",
              "      <td>AFG</td>\n",
              "      <td>Asia</td>\n",
              "      <td>Afghanistan</td>\n",
              "      <td>0.0</td>\n",
              "      <td>0.0</td>\n",
              "      <td>0.0</td>\n",
              "      <td>39835428.0</td>\n",
              "    </tr>\n",
              "    <tr>\n",
              "      <th>2</th>\n",
              "      <td>AFG</td>\n",
              "      <td>Asia</td>\n",
              "      <td>Afghanistan</td>\n",
              "      <td>0.0</td>\n",
              "      <td>0.0</td>\n",
              "      <td>0.0</td>\n",
              "      <td>39835428.0</td>\n",
              "    </tr>\n",
              "    <tr>\n",
              "      <th>3</th>\n",
              "      <td>AFG</td>\n",
              "      <td>Asia</td>\n",
              "      <td>Afghanistan</td>\n",
              "      <td>0.0</td>\n",
              "      <td>0.0</td>\n",
              "      <td>0.0</td>\n",
              "      <td>39835428.0</td>\n",
              "    </tr>\n",
              "    <tr>\n",
              "      <th>4</th>\n",
              "      <td>AFG</td>\n",
              "      <td>Asia</td>\n",
              "      <td>Afghanistan</td>\n",
              "      <td>0.0</td>\n",
              "      <td>0.0</td>\n",
              "      <td>0.0</td>\n",
              "      <td>39835428.0</td>\n",
              "    </tr>\n",
              "    <tr>\n",
              "      <th>...</th>\n",
              "      <td>...</td>\n",
              "      <td>...</td>\n",
              "      <td>...</td>\n",
              "      <td>...</td>\n",
              "      <td>...</td>\n",
              "      <td>...</td>\n",
              "      <td>...</td>\n",
              "    </tr>\n",
              "    <tr>\n",
              "      <th>166321</th>\n",
              "      <td>ZWE</td>\n",
              "      <td>Africa</td>\n",
              "      <td>Zimbabwe</td>\n",
              "      <td>491.0</td>\n",
              "      <td>0.0</td>\n",
              "      <td>0.0</td>\n",
              "      <td>15092171.0</td>\n",
              "    </tr>\n",
              "    <tr>\n",
              "      <th>166322</th>\n",
              "      <td>ZWE</td>\n",
              "      <td>Africa</td>\n",
              "      <td>Zimbabwe</td>\n",
              "      <td>632.0</td>\n",
              "      <td>1.0</td>\n",
              "      <td>0.0</td>\n",
              "      <td>15092171.0</td>\n",
              "    </tr>\n",
              "    <tr>\n",
              "      <th>166323</th>\n",
              "      <td>ZWE</td>\n",
              "      <td>Africa</td>\n",
              "      <td>Zimbabwe</td>\n",
              "      <td>0.0</td>\n",
              "      <td>0.0</td>\n",
              "      <td>0.0</td>\n",
              "      <td>15092171.0</td>\n",
              "    </tr>\n",
              "    <tr>\n",
              "      <th>166324</th>\n",
              "      <td>ZWE</td>\n",
              "      <td>Africa</td>\n",
              "      <td>Zimbabwe</td>\n",
              "      <td>1236.0</td>\n",
              "      <td>1.0</td>\n",
              "      <td>0.0</td>\n",
              "      <td>15092171.0</td>\n",
              "    </tr>\n",
              "    <tr>\n",
              "      <th>166325</th>\n",
              "      <td>ZWE</td>\n",
              "      <td>Africa</td>\n",
              "      <td>Zimbabwe</td>\n",
              "      <td>280.0</td>\n",
              "      <td>0.0</td>\n",
              "      <td>0.0</td>\n",
              "      <td>15092171.0</td>\n",
              "    </tr>\n",
              "  </tbody>\n",
              "</table>\n",
              "<p>166326 rows × 7 columns</p>\n",
              "</div>\n",
              "      <button class=\"colab-df-convert\" onclick=\"convertToInteractive('df-f899f3f6-a806-4974-925e-62dc0d18f068')\"\n",
              "              title=\"Convert this dataframe to an interactive table.\"\n",
              "              style=\"display:none;\">\n",
              "        \n",
              "  <svg xmlns=\"http://www.w3.org/2000/svg\" height=\"24px\"viewBox=\"0 0 24 24\"\n",
              "       width=\"24px\">\n",
              "    <path d=\"M0 0h24v24H0V0z\" fill=\"none\"/>\n",
              "    <path d=\"M18.56 5.44l.94 2.06.94-2.06 2.06-.94-2.06-.94-.94-2.06-.94 2.06-2.06.94zm-11 1L8.5 8.5l.94-2.06 2.06-.94-2.06-.94L8.5 2.5l-.94 2.06-2.06.94zm10 10l.94 2.06.94-2.06 2.06-.94-2.06-.94-.94-2.06-.94 2.06-2.06.94z\"/><path d=\"M17.41 7.96l-1.37-1.37c-.4-.4-.92-.59-1.43-.59-.52 0-1.04.2-1.43.59L10.3 9.45l-7.72 7.72c-.78.78-.78 2.05 0 2.83L4 21.41c.39.39.9.59 1.41.59.51 0 1.02-.2 1.41-.59l7.78-7.78 2.81-2.81c.8-.78.8-2.07 0-2.86zM5.41 20L4 18.59l7.72-7.72 1.47 1.35L5.41 20z\"/>\n",
              "  </svg>\n",
              "      </button>\n",
              "      \n",
              "  <style>\n",
              "    .colab-df-container {\n",
              "      display:flex;\n",
              "      flex-wrap:wrap;\n",
              "      gap: 12px;\n",
              "    }\n",
              "\n",
              "    .colab-df-convert {\n",
              "      background-color: #E8F0FE;\n",
              "      border: none;\n",
              "      border-radius: 50%;\n",
              "      cursor: pointer;\n",
              "      display: none;\n",
              "      fill: #1967D2;\n",
              "      height: 32px;\n",
              "      padding: 0 0 0 0;\n",
              "      width: 32px;\n",
              "    }\n",
              "\n",
              "    .colab-df-convert:hover {\n",
              "      background-color: #E2EBFA;\n",
              "      box-shadow: 0px 1px 2px rgba(60, 64, 67, 0.3), 0px 1px 3px 1px rgba(60, 64, 67, 0.15);\n",
              "      fill: #174EA6;\n",
              "    }\n",
              "\n",
              "    [theme=dark] .colab-df-convert {\n",
              "      background-color: #3B4455;\n",
              "      fill: #D2E3FC;\n",
              "    }\n",
              "\n",
              "    [theme=dark] .colab-df-convert:hover {\n",
              "      background-color: #434B5C;\n",
              "      box-shadow: 0px 1px 3px 1px rgba(0, 0, 0, 0.15);\n",
              "      filter: drop-shadow(0px 1px 2px rgba(0, 0, 0, 0.3));\n",
              "      fill: #FFFFFF;\n",
              "    }\n",
              "  </style>\n",
              "\n",
              "      <script>\n",
              "        const buttonEl =\n",
              "          document.querySelector('#df-f899f3f6-a806-4974-925e-62dc0d18f068 button.colab-df-convert');\n",
              "        buttonEl.style.display =\n",
              "          google.colab.kernel.accessAllowed ? 'block' : 'none';\n",
              "\n",
              "        async function convertToInteractive(key) {\n",
              "          const element = document.querySelector('#df-f899f3f6-a806-4974-925e-62dc0d18f068');\n",
              "          const dataTable =\n",
              "            await google.colab.kernel.invokeFunction('convertToInteractive',\n",
              "                                                     [key], {});\n",
              "          if (!dataTable) return;\n",
              "\n",
              "          const docLinkHtml = 'Like what you see? Visit the ' +\n",
              "            '<a target=\"_blank\" href=https://colab.research.google.com/notebooks/data_table.ipynb>data table notebook</a>'\n",
              "            + ' to learn more about interactive tables.';\n",
              "          element.innerHTML = '';\n",
              "          dataTable['output_type'] = 'display_data';\n",
              "          await google.colab.output.renderOutput(dataTable, element);\n",
              "          const docLink = document.createElement('div');\n",
              "          docLink.innerHTML = docLinkHtml;\n",
              "          element.appendChild(docLink);\n",
              "        }\n",
              "      </script>\n",
              "    </div>\n",
              "  </div>\n",
              "  "
            ]
          },
          "metadata": {},
          "execution_count": 8
        }
      ]
    },
    {
      "cell_type": "markdown",
      "source": [
        "Ahora lo siguiente es la construcción de variables auxiliares de clasificación, estas variables son:\n",
        "\n",
        "---\n",
        "\n",
        "**Porcentaje de casos**:\n",
        "\n",
        "Esta variable indica cuánto es el porcentaje de casos totales en relación a la población.\n",
        "\n",
        "Matemáticamente está definida como:\n",
        "```\n",
        "(Casos totales / Población)*100\n",
        "```\n",
        "\n",
        "La clasificación de riesgo se hará bajo 5 niveles, los cuales son:\n",
        "\n",
        "\n",
        "*   **Riesgo elevado**: Si el valor está por encima del 10%.\n",
        "*   **Riesgo moderado**: Si el valor está por encima del 5%.\n",
        "*   **Riesgo bajo**: Si el valor es igual o está por debajo del 5%.\n",
        "\n",
        "Este parámetro indica cuánto es el porcentaje de la población que ha sido infectado.\n",
        "\n",
        "---\n",
        "\n",
        "**Porcentaje de muertes**\n",
        "\n",
        "Esta variable indica cuánto es el porcentaje de muertes totales en relación a los casos totales.\n",
        "\n",
        "Matemáticamente está definida como:\n",
        "```\n",
        "(Muertes totales / Casos totales)*100\n",
        "```\n",
        "\n",
        "La clasificación de riesgo se hará bajo 5 niveles, los cuales son:\n",
        "\n",
        "\n",
        "*   **Riesgo elevado**: Si el valor está por encima del 20%.\n",
        "*   **Riesgo moderado**: Si el valor está por encima del 5%.\n",
        "*   **Riesgo bajo**: Si el valor es igual o está por debajo del 5%.\n",
        "\n",
        "Este parámetro indica cuánto es el porcentaje de la población infectada que ha muerto.\n",
        "\n",
        "---\n",
        "\n",
        "**Porcentaje de nuevos casos**\n",
        "\n",
        "Esta variable indica cuánto es el porcentaje de nuevos casos en relación a la población total.\n",
        "\n",
        "Matemáticamente está definida como:\n",
        "```\n",
        "(Nuevos casos / Población)*10^5\n",
        "```\n",
        "\n",
        "La clasificación de riesgo se hará bajo 5 niveles, los cuales son:\n",
        "\n",
        "\n",
        "*   **Riesgo elevado**: Si el valor está por encima del 20%.\n",
        "*   **Riesgo moderado**: Si el valor está por encima del 5%.\n",
        "*   **Riesgo bajo**: Si el valor es igual o está por debajo del 5%.\n",
        "\n",
        "Este parámetro indica cuánto es el porcentaje de la población que ha sido infectada. Se aplica una extrapolación debido a que se espera que sea un valor muy pequeño, es por ello que se eleva 10.000 veces.\n",
        "\n",
        "---\n",
        "\n",
        "**Porcentaje de UCI**\n",
        "\n",
        "Esta variable indica cuánto es el porcentaje de pacientes en UCI en relación a los nuevos casos registrados.\n",
        "\n",
        "Matemáticamente está definida como:\n",
        "```\n",
        "(Pacientes de UCI / Nuevos casos)*100\n",
        "```\n",
        "\n",
        "La clasificación de riesgo se hará bajo 5 niveles, los cuales son:\n",
        "\n",
        "\n",
        "*   **Riesgo elevado**: Si el valor está por encima del 35%.\n",
        "*   **Riesgo moderado**: Si el valor está por encima del 10%.\n",
        "*   **Riesgo bajo**: Si el valor es igual o está por debajo del 10%.\n",
        "\n",
        "Este parámetro indica cuánto es el porcentaje de la población infectada recientemente y cómo es el comportamiento de los hospitalizados en UCI.\n",
        "\n",
        "---\n",
        "\n",
        "**Porcentaje de mortalidad**\n",
        "\n",
        "Esta variable indica cuánto es el porcentaje de nuevas muertes en base a los nuevos contagios.\n",
        "\n",
        "Matemáticamente está definida como:\n",
        "```\n",
        "(Nuevas muertes / Nuevos casos)*100\n",
        "```\n",
        "\n",
        "La clasificación de riesgo se hará bajo 5 niveles, los cuales son:\n",
        "\n",
        "\n",
        "*   **Riesgo elevado**: Si el valor está por encima del 20%.\n",
        "*   **Riesgo moderado**: Si el valor está por encima del 5%.\n",
        "*   **Riesgo bajo**: Si el valor es igual o está por debajo del 5%.\n",
        "\n",
        "Este parámetro indica cuánto es el porcentaje de la población infectada que ha muerto.\n",
        "\n",
        "---\n",
        "\n",
        "**Porcentaje de inmunización**\n",
        "\n",
        "Esta variable indica cuánto es el porcentaje de personas que se han vacunado.\n",
        "\n",
        "Matemáticamente está definida como:\n",
        "```\n",
        "(Nuevos vacunados / Población)*10^5\n",
        "```\n",
        "\n",
        "La clasificación de riesgo se hará bajo 5 niveles, los cuales son:\n",
        "\n",
        "\n",
        "*   **Riesgo elevado**: Si el valor está por debajo del 5%.\n",
        "*   **Riesgo moderado**: Si el valor está por debajo del 20%.\n",
        "*   **Riesgo bajo**: Si el valor es igual o está por encima del 20%.\n",
        "\n",
        "Este parámetro indica cuánto es el porcentaje de la población que recientemente han sido vacunados."
      ],
      "metadata": {
        "id": "BWExWiqmwGHb"
      }
    },
    {
      "cell_type": "markdown",
      "source": [
        "**Peso de los parámetros:**\n",
        "\n",
        "El nivel de clasificación general también será basado en 5 niveles, donde a mayor nivel es mayor el riesgo. Los anteriores valores tienen cierto peso para establecer el nivel de peligro, y la ponderación de los valores más importantes tendrá una leve solapación entre sí con el objetivo de darles mayor peso. La ponderación es la siguiente:\n",
        "\n",
        "1.   **Porcentaje de casos:** 15%\n",
        "2.   **Porcentaje de muertes:** 15%\n",
        "3.   **Porcentaje de nuevos casos:** 20%\n",
        "4.   **Porcentaje de UCI:** 20%\n",
        "5.   **Porcentaje de mortalidad:** 30%\n",
        "6.   **Porcentaje de inmunización:** 10%\n"
      ],
      "metadata": {
        "id": "V8NCoENg3urV"
      }
    },
    {
      "cell_type": "markdown",
      "source": [
        "Ahora entonces se construye el dataset de procesamiento"
      ],
      "metadata": {
        "id": "g8JLDAXG4xN8"
      }
    },
    {
      "cell_type": "code",
      "source": [
        "#Genero el dataset de procesamiento\n",
        "myProcess=pd.DataFrame()\n",
        "\n",
        "#Ahora realizo los cálculos\n",
        "myProcess[\"Infection_percent\"]=(myData[\"new_cases\"]/myData[\"population\"])*100000\n",
        "myProcess[\"Mortality_percent\"]=(myData[\"new_deaths\"]/myData[\"new_cases\"])*100\n",
        "myProcess[\"UCI_percent\"]=(myData[\"weekly_icu_admissions\"]/myData[\"new_cases\"])*100\n",
        "#Relleno la información de la que no tengo valores\n",
        "myProcess=myProcess.fillna(0)\n",
        "\n",
        "#Observo\n",
        "myProcess"
      ],
      "metadata": {
        "colab": {
          "base_uri": "https://localhost:8080/",
          "height": 424
        },
        "id": "gaR0xBYZ5Fe7",
        "outputId": "3e80637c-4516-47f9-b961-3b5f31b75815"
      },
      "execution_count": null,
      "outputs": [
        {
          "output_type": "execute_result",
          "data": {
            "text/plain": [
              "        Infection_percent  Mortality_percent  UCI_percent\n",
              "0                0.012552           0.000000          0.0\n",
              "1                0.000000           0.000000          0.0\n",
              "2                0.000000           0.000000          0.0\n",
              "3                0.000000           0.000000          0.0\n",
              "4                0.000000           0.000000          0.0\n",
              "...                   ...                ...          ...\n",
              "166321           3.253342           0.000000          0.0\n",
              "166322           4.187602           0.158228          0.0\n",
              "166323           0.000000           0.000000          0.0\n",
              "166324           8.189677           0.080906          0.0\n",
              "166325           1.855267           0.000000          0.0\n",
              "\n",
              "[166326 rows x 3 columns]"
            ],
            "text/html": [
              "\n",
              "  <div id=\"df-20ef2b60-d847-4246-858d-515411bc88f2\">\n",
              "    <div class=\"colab-df-container\">\n",
              "      <div>\n",
              "<style scoped>\n",
              "    .dataframe tbody tr th:only-of-type {\n",
              "        vertical-align: middle;\n",
              "    }\n",
              "\n",
              "    .dataframe tbody tr th {\n",
              "        vertical-align: top;\n",
              "    }\n",
              "\n",
              "    .dataframe thead th {\n",
              "        text-align: right;\n",
              "    }\n",
              "</style>\n",
              "<table border=\"1\" class=\"dataframe\">\n",
              "  <thead>\n",
              "    <tr style=\"text-align: right;\">\n",
              "      <th></th>\n",
              "      <th>Infection_percent</th>\n",
              "      <th>Mortality_percent</th>\n",
              "      <th>UCI_percent</th>\n",
              "    </tr>\n",
              "  </thead>\n",
              "  <tbody>\n",
              "    <tr>\n",
              "      <th>0</th>\n",
              "      <td>0.012552</td>\n",
              "      <td>0.000000</td>\n",
              "      <td>0.0</td>\n",
              "    </tr>\n",
              "    <tr>\n",
              "      <th>1</th>\n",
              "      <td>0.000000</td>\n",
              "      <td>0.000000</td>\n",
              "      <td>0.0</td>\n",
              "    </tr>\n",
              "    <tr>\n",
              "      <th>2</th>\n",
              "      <td>0.000000</td>\n",
              "      <td>0.000000</td>\n",
              "      <td>0.0</td>\n",
              "    </tr>\n",
              "    <tr>\n",
              "      <th>3</th>\n",
              "      <td>0.000000</td>\n",
              "      <td>0.000000</td>\n",
              "      <td>0.0</td>\n",
              "    </tr>\n",
              "    <tr>\n",
              "      <th>4</th>\n",
              "      <td>0.000000</td>\n",
              "      <td>0.000000</td>\n",
              "      <td>0.0</td>\n",
              "    </tr>\n",
              "    <tr>\n",
              "      <th>...</th>\n",
              "      <td>...</td>\n",
              "      <td>...</td>\n",
              "      <td>...</td>\n",
              "    </tr>\n",
              "    <tr>\n",
              "      <th>166321</th>\n",
              "      <td>3.253342</td>\n",
              "      <td>0.000000</td>\n",
              "      <td>0.0</td>\n",
              "    </tr>\n",
              "    <tr>\n",
              "      <th>166322</th>\n",
              "      <td>4.187602</td>\n",
              "      <td>0.158228</td>\n",
              "      <td>0.0</td>\n",
              "    </tr>\n",
              "    <tr>\n",
              "      <th>166323</th>\n",
              "      <td>0.000000</td>\n",
              "      <td>0.000000</td>\n",
              "      <td>0.0</td>\n",
              "    </tr>\n",
              "    <tr>\n",
              "      <th>166324</th>\n",
              "      <td>8.189677</td>\n",
              "      <td>0.080906</td>\n",
              "      <td>0.0</td>\n",
              "    </tr>\n",
              "    <tr>\n",
              "      <th>166325</th>\n",
              "      <td>1.855267</td>\n",
              "      <td>0.000000</td>\n",
              "      <td>0.0</td>\n",
              "    </tr>\n",
              "  </tbody>\n",
              "</table>\n",
              "<p>166326 rows × 3 columns</p>\n",
              "</div>\n",
              "      <button class=\"colab-df-convert\" onclick=\"convertToInteractive('df-20ef2b60-d847-4246-858d-515411bc88f2')\"\n",
              "              title=\"Convert this dataframe to an interactive table.\"\n",
              "              style=\"display:none;\">\n",
              "        \n",
              "  <svg xmlns=\"http://www.w3.org/2000/svg\" height=\"24px\"viewBox=\"0 0 24 24\"\n",
              "       width=\"24px\">\n",
              "    <path d=\"M0 0h24v24H0V0z\" fill=\"none\"/>\n",
              "    <path d=\"M18.56 5.44l.94 2.06.94-2.06 2.06-.94-2.06-.94-.94-2.06-.94 2.06-2.06.94zm-11 1L8.5 8.5l.94-2.06 2.06-.94-2.06-.94L8.5 2.5l-.94 2.06-2.06.94zm10 10l.94 2.06.94-2.06 2.06-.94-2.06-.94-.94-2.06-.94 2.06-2.06.94z\"/><path d=\"M17.41 7.96l-1.37-1.37c-.4-.4-.92-.59-1.43-.59-.52 0-1.04.2-1.43.59L10.3 9.45l-7.72 7.72c-.78.78-.78 2.05 0 2.83L4 21.41c.39.39.9.59 1.41.59.51 0 1.02-.2 1.41-.59l7.78-7.78 2.81-2.81c.8-.78.8-2.07 0-2.86zM5.41 20L4 18.59l7.72-7.72 1.47 1.35L5.41 20z\"/>\n",
              "  </svg>\n",
              "      </button>\n",
              "      \n",
              "  <style>\n",
              "    .colab-df-container {\n",
              "      display:flex;\n",
              "      flex-wrap:wrap;\n",
              "      gap: 12px;\n",
              "    }\n",
              "\n",
              "    .colab-df-convert {\n",
              "      background-color: #E8F0FE;\n",
              "      border: none;\n",
              "      border-radius: 50%;\n",
              "      cursor: pointer;\n",
              "      display: none;\n",
              "      fill: #1967D2;\n",
              "      height: 32px;\n",
              "      padding: 0 0 0 0;\n",
              "      width: 32px;\n",
              "    }\n",
              "\n",
              "    .colab-df-convert:hover {\n",
              "      background-color: #E2EBFA;\n",
              "      box-shadow: 0px 1px 2px rgba(60, 64, 67, 0.3), 0px 1px 3px 1px rgba(60, 64, 67, 0.15);\n",
              "      fill: #174EA6;\n",
              "    }\n",
              "\n",
              "    [theme=dark] .colab-df-convert {\n",
              "      background-color: #3B4455;\n",
              "      fill: #D2E3FC;\n",
              "    }\n",
              "\n",
              "    [theme=dark] .colab-df-convert:hover {\n",
              "      background-color: #434B5C;\n",
              "      box-shadow: 0px 1px 3px 1px rgba(0, 0, 0, 0.15);\n",
              "      filter: drop-shadow(0px 1px 2px rgba(0, 0, 0, 0.3));\n",
              "      fill: #FFFFFF;\n",
              "    }\n",
              "  </style>\n",
              "\n",
              "      <script>\n",
              "        const buttonEl =\n",
              "          document.querySelector('#df-20ef2b60-d847-4246-858d-515411bc88f2 button.colab-df-convert');\n",
              "        buttonEl.style.display =\n",
              "          google.colab.kernel.accessAllowed ? 'block' : 'none';\n",
              "\n",
              "        async function convertToInteractive(key) {\n",
              "          const element = document.querySelector('#df-20ef2b60-d847-4246-858d-515411bc88f2');\n",
              "          const dataTable =\n",
              "            await google.colab.kernel.invokeFunction('convertToInteractive',\n",
              "                                                     [key], {});\n",
              "          if (!dataTable) return;\n",
              "\n",
              "          const docLinkHtml = 'Like what you see? Visit the ' +\n",
              "            '<a target=\"_blank\" href=https://colab.research.google.com/notebooks/data_table.ipynb>data table notebook</a>'\n",
              "            + ' to learn more about interactive tables.';\n",
              "          element.innerHTML = '';\n",
              "          dataTable['output_type'] = 'display_data';\n",
              "          await google.colab.output.renderOutput(dataTable, element);\n",
              "          const docLink = document.createElement('div');\n",
              "          docLink.innerHTML = docLinkHtml;\n",
              "          element.appendChild(docLink);\n",
              "        }\n",
              "      </script>\n",
              "    </div>\n",
              "  </div>\n",
              "  "
            ]
          },
          "metadata": {},
          "execution_count": 9
        }
      ]
    },
    {
      "cell_type": "markdown",
      "source": [
        "Lo siguiente entonces es rankear esta información según lo que necesito"
      ],
      "metadata": {
        "id": "xSNHx7ya7ZKt"
      }
    },
    {
      "cell_type": "code",
      "source": [
        "#Porcentaje de contagios\n",
        "mycol=pd.DataFrame()\n",
        "\n",
        "#Obtengo la columna\n",
        "mycol[\"Infection_percent\"]=myProcess[\"Infection_percent\"].copy()\n",
        "\n",
        "#Ahora rankeo según el valor\n",
        "mycol[\"Infection_percent\"][mycol[\"Infection_percent\"]<=5]=1\n",
        "mycol[(mycol[\"Infection_percent\"]<=20)&(mycol[\"Infection_percent\"]>5)]=2\n",
        "mycol[mycol[\"Infection_percent\"]>20]=3\n",
        "\n",
        "#Porcentaje de mortalidad\n",
        "\n",
        "#Obtengo la columna\n",
        "mycol[\"Mortality_percent\"]=myProcess[\"Mortality_percent\"]\n",
        "\n",
        "#Ahora rankeo según el valor\n",
        "mycol[mycol[\"Mortality_percent\"]<=3]=1\n",
        "mycol[(mycol[\"Mortality_percent\"]<=10)&(mycol[\"Mortality_percent\"]>3)]=2\n",
        "mycol[mycol[\"Mortality_percent\"]>10]=3\n",
        "\n",
        "#Porcentaje de UCI\n",
        "\n",
        "#Obtengo la columna\n",
        "mycol[\"UCI_percent\"]=myProcess[\"UCI_percent\"]\n",
        "\n",
        "#Ahora rankeo según el valor\n",
        "mycol[mycol[\"UCI_percent\"]<=5]=1\n",
        "mycol[(mycol[\"UCI_percent\"]<=15)&(mycol[\"UCI_percent\"]>5)]=2\n",
        "mycol[mycol[\"UCI_percent\"]>15]=3\n",
        "\n",
        "#Ahora visualizo de nuevo la tabla\n",
        "mycol\n"
      ],
      "metadata": {
        "colab": {
          "base_uri": "https://localhost:8080/",
          "height": 424
        },
        "id": "QxzY4TBR7XbQ",
        "outputId": "4d0c4711-5315-4d46-fde1-eeedda66e209"
      },
      "execution_count": null,
      "outputs": [
        {
          "output_type": "execute_result",
          "data": {
            "text/plain": [
              "        Infection_percent  Mortality_percent  UCI_percent\n",
              "0                     1.0                1.0          1.0\n",
              "1                     1.0                1.0          1.0\n",
              "2                     1.0                1.0          1.0\n",
              "3                     1.0                1.0          1.0\n",
              "4                     1.0                1.0          1.0\n",
              "...                   ...                ...          ...\n",
              "166321                1.0                1.0          1.0\n",
              "166322                1.0                1.0          1.0\n",
              "166323                1.0                1.0          1.0\n",
              "166324                1.0                1.0          1.0\n",
              "166325                1.0                1.0          1.0\n",
              "\n",
              "[166326 rows x 3 columns]"
            ],
            "text/html": [
              "\n",
              "  <div id=\"df-ed076e9f-a5da-45f8-bbe7-33177f2617ac\">\n",
              "    <div class=\"colab-df-container\">\n",
              "      <div>\n",
              "<style scoped>\n",
              "    .dataframe tbody tr th:only-of-type {\n",
              "        vertical-align: middle;\n",
              "    }\n",
              "\n",
              "    .dataframe tbody tr th {\n",
              "        vertical-align: top;\n",
              "    }\n",
              "\n",
              "    .dataframe thead th {\n",
              "        text-align: right;\n",
              "    }\n",
              "</style>\n",
              "<table border=\"1\" class=\"dataframe\">\n",
              "  <thead>\n",
              "    <tr style=\"text-align: right;\">\n",
              "      <th></th>\n",
              "      <th>Infection_percent</th>\n",
              "      <th>Mortality_percent</th>\n",
              "      <th>UCI_percent</th>\n",
              "    </tr>\n",
              "  </thead>\n",
              "  <tbody>\n",
              "    <tr>\n",
              "      <th>0</th>\n",
              "      <td>1.0</td>\n",
              "      <td>1.0</td>\n",
              "      <td>1.0</td>\n",
              "    </tr>\n",
              "    <tr>\n",
              "      <th>1</th>\n",
              "      <td>1.0</td>\n",
              "      <td>1.0</td>\n",
              "      <td>1.0</td>\n",
              "    </tr>\n",
              "    <tr>\n",
              "      <th>2</th>\n",
              "      <td>1.0</td>\n",
              "      <td>1.0</td>\n",
              "      <td>1.0</td>\n",
              "    </tr>\n",
              "    <tr>\n",
              "      <th>3</th>\n",
              "      <td>1.0</td>\n",
              "      <td>1.0</td>\n",
              "      <td>1.0</td>\n",
              "    </tr>\n",
              "    <tr>\n",
              "      <th>4</th>\n",
              "      <td>1.0</td>\n",
              "      <td>1.0</td>\n",
              "      <td>1.0</td>\n",
              "    </tr>\n",
              "    <tr>\n",
              "      <th>...</th>\n",
              "      <td>...</td>\n",
              "      <td>...</td>\n",
              "      <td>...</td>\n",
              "    </tr>\n",
              "    <tr>\n",
              "      <th>166321</th>\n",
              "      <td>1.0</td>\n",
              "      <td>1.0</td>\n",
              "      <td>1.0</td>\n",
              "    </tr>\n",
              "    <tr>\n",
              "      <th>166322</th>\n",
              "      <td>1.0</td>\n",
              "      <td>1.0</td>\n",
              "      <td>1.0</td>\n",
              "    </tr>\n",
              "    <tr>\n",
              "      <th>166323</th>\n",
              "      <td>1.0</td>\n",
              "      <td>1.0</td>\n",
              "      <td>1.0</td>\n",
              "    </tr>\n",
              "    <tr>\n",
              "      <th>166324</th>\n",
              "      <td>1.0</td>\n",
              "      <td>1.0</td>\n",
              "      <td>1.0</td>\n",
              "    </tr>\n",
              "    <tr>\n",
              "      <th>166325</th>\n",
              "      <td>1.0</td>\n",
              "      <td>1.0</td>\n",
              "      <td>1.0</td>\n",
              "    </tr>\n",
              "  </tbody>\n",
              "</table>\n",
              "<p>166326 rows × 3 columns</p>\n",
              "</div>\n",
              "      <button class=\"colab-df-convert\" onclick=\"convertToInteractive('df-ed076e9f-a5da-45f8-bbe7-33177f2617ac')\"\n",
              "              title=\"Convert this dataframe to an interactive table.\"\n",
              "              style=\"display:none;\">\n",
              "        \n",
              "  <svg xmlns=\"http://www.w3.org/2000/svg\" height=\"24px\"viewBox=\"0 0 24 24\"\n",
              "       width=\"24px\">\n",
              "    <path d=\"M0 0h24v24H0V0z\" fill=\"none\"/>\n",
              "    <path d=\"M18.56 5.44l.94 2.06.94-2.06 2.06-.94-2.06-.94-.94-2.06-.94 2.06-2.06.94zm-11 1L8.5 8.5l.94-2.06 2.06-.94-2.06-.94L8.5 2.5l-.94 2.06-2.06.94zm10 10l.94 2.06.94-2.06 2.06-.94-2.06-.94-.94-2.06-.94 2.06-2.06.94z\"/><path d=\"M17.41 7.96l-1.37-1.37c-.4-.4-.92-.59-1.43-.59-.52 0-1.04.2-1.43.59L10.3 9.45l-7.72 7.72c-.78.78-.78 2.05 0 2.83L4 21.41c.39.39.9.59 1.41.59.51 0 1.02-.2 1.41-.59l7.78-7.78 2.81-2.81c.8-.78.8-2.07 0-2.86zM5.41 20L4 18.59l7.72-7.72 1.47 1.35L5.41 20z\"/>\n",
              "  </svg>\n",
              "      </button>\n",
              "      \n",
              "  <style>\n",
              "    .colab-df-container {\n",
              "      display:flex;\n",
              "      flex-wrap:wrap;\n",
              "      gap: 12px;\n",
              "    }\n",
              "\n",
              "    .colab-df-convert {\n",
              "      background-color: #E8F0FE;\n",
              "      border: none;\n",
              "      border-radius: 50%;\n",
              "      cursor: pointer;\n",
              "      display: none;\n",
              "      fill: #1967D2;\n",
              "      height: 32px;\n",
              "      padding: 0 0 0 0;\n",
              "      width: 32px;\n",
              "    }\n",
              "\n",
              "    .colab-df-convert:hover {\n",
              "      background-color: #E2EBFA;\n",
              "      box-shadow: 0px 1px 2px rgba(60, 64, 67, 0.3), 0px 1px 3px 1px rgba(60, 64, 67, 0.15);\n",
              "      fill: #174EA6;\n",
              "    }\n",
              "\n",
              "    [theme=dark] .colab-df-convert {\n",
              "      background-color: #3B4455;\n",
              "      fill: #D2E3FC;\n",
              "    }\n",
              "\n",
              "    [theme=dark] .colab-df-convert:hover {\n",
              "      background-color: #434B5C;\n",
              "      box-shadow: 0px 1px 3px 1px rgba(0, 0, 0, 0.15);\n",
              "      filter: drop-shadow(0px 1px 2px rgba(0, 0, 0, 0.3));\n",
              "      fill: #FFFFFF;\n",
              "    }\n",
              "  </style>\n",
              "\n",
              "      <script>\n",
              "        const buttonEl =\n",
              "          document.querySelector('#df-ed076e9f-a5da-45f8-bbe7-33177f2617ac button.colab-df-convert');\n",
              "        buttonEl.style.display =\n",
              "          google.colab.kernel.accessAllowed ? 'block' : 'none';\n",
              "\n",
              "        async function convertToInteractive(key) {\n",
              "          const element = document.querySelector('#df-ed076e9f-a5da-45f8-bbe7-33177f2617ac');\n",
              "          const dataTable =\n",
              "            await google.colab.kernel.invokeFunction('convertToInteractive',\n",
              "                                                     [key], {});\n",
              "          if (!dataTable) return;\n",
              "\n",
              "          const docLinkHtml = 'Like what you see? Visit the ' +\n",
              "            '<a target=\"_blank\" href=https://colab.research.google.com/notebooks/data_table.ipynb>data table notebook</a>'\n",
              "            + ' to learn more about interactive tables.';\n",
              "          element.innerHTML = '';\n",
              "          dataTable['output_type'] = 'display_data';\n",
              "          await google.colab.output.renderOutput(dataTable, element);\n",
              "          const docLink = document.createElement('div');\n",
              "          docLink.innerHTML = docLinkHtml;\n",
              "          element.appendChild(docLink);\n",
              "        }\n",
              "      </script>\n",
              "    </div>\n",
              "  </div>\n",
              "  "
            ]
          },
          "metadata": {},
          "execution_count": 10
        }
      ]
    },
    {
      "cell_type": "code",
      "source": [
        "#Visualizo la distribución de casos en general\n",
        "print(\"Infection_percent\")\n",
        "print(len(mycol[\"Infection_percent\"][mycol[\"Infection_percent\"]==1]))\n",
        "print(len(mycol[\"Infection_percent\"][mycol[\"Infection_percent\"]==2]))\n",
        "print(len(mycol[\"Infection_percent\"][mycol[\"Infection_percent\"]==3]))\n",
        "print(\"\\nMortality_percent\")\n",
        "print(len(mycol[\"Mortality_percent\"][mycol[\"Mortality_percent\"]==1]))\n",
        "print(len(mycol[\"Mortality_percent\"][mycol[\"Mortality_percent\"]==2]))\n",
        "print(len(mycol[\"Mortality_percent\"][mycol[\"Mortality_percent\"]==3]))\n",
        "print(\"\\nUCI_percent\")\n",
        "print(len(mycol[\"UCI_percent\"][mycol[\"UCI_percent\"]==1]))\n",
        "print(len(mycol[\"UCI_percent\"][mycol[\"UCI_percent\"]==2]))\n",
        "print(len(mycol[\"UCI_percent\"][mycol[\"UCI_percent\"]==3]))"
      ],
      "metadata": {
        "colab": {
          "base_uri": "https://localhost:8080/"
        },
        "id": "VLJAy5Z3cy75",
        "outputId": "35249259-e597-4150-8355-9c69d282a373"
      },
      "execution_count": null,
      "outputs": [
        {
          "output_type": "stream",
          "name": "stdout",
          "text": [
            "Infection_percent\n",
            "163313\n",
            "1728\n",
            "1285\n",
            "\n",
            "Mortality_percent\n",
            "163313\n",
            "1728\n",
            "1285\n",
            "\n",
            "UCI_percent\n",
            "163313\n",
            "1728\n",
            "1285\n"
          ]
        }
      ]
    },
    {
      "cell_type": "markdown",
      "source": [
        "Ahora queda generar la nueva variable, la cual será la ponderación de estos valores\n",
        "\n"
      ],
      "metadata": {
        "id": "alXgvylH-QoM"
      }
    },
    {
      "cell_type": "code",
      "source": [
        "#Aplico la operación\n",
        "mycol[\"Result\"]=round(mycol[\"Infection_percent\"]*0.33+mycol[\"Mortality_percent\"]*0.33+mycol[\"UCI_percent\"]*0.33,0)\n",
        "\n",
        "#Ahora visualizo\n",
        "mycol"
      ],
      "metadata": {
        "colab": {
          "base_uri": "https://localhost:8080/",
          "height": 424
        },
        "id": "L2jxZe3w-ZZG",
        "outputId": "9b9c3e2e-00ce-49fb-886a-bccfa86d1aab"
      },
      "execution_count": null,
      "outputs": [
        {
          "output_type": "execute_result",
          "data": {
            "text/plain": [
              "        Infection_percent  Mortality_percent  UCI_percent  Result\n",
              "0                     1.0                1.0          1.0     1.0\n",
              "1                     1.0                1.0          1.0     1.0\n",
              "2                     1.0                1.0          1.0     1.0\n",
              "3                     1.0                1.0          1.0     1.0\n",
              "4                     1.0                1.0          1.0     1.0\n",
              "...                   ...                ...          ...     ...\n",
              "166321                1.0                1.0          1.0     1.0\n",
              "166322                1.0                1.0          1.0     1.0\n",
              "166323                1.0                1.0          1.0     1.0\n",
              "166324                1.0                1.0          1.0     1.0\n",
              "166325                1.0                1.0          1.0     1.0\n",
              "\n",
              "[166326 rows x 4 columns]"
            ],
            "text/html": [
              "\n",
              "  <div id=\"df-a24b57cd-271d-4fdb-af80-80e997a14845\">\n",
              "    <div class=\"colab-df-container\">\n",
              "      <div>\n",
              "<style scoped>\n",
              "    .dataframe tbody tr th:only-of-type {\n",
              "        vertical-align: middle;\n",
              "    }\n",
              "\n",
              "    .dataframe tbody tr th {\n",
              "        vertical-align: top;\n",
              "    }\n",
              "\n",
              "    .dataframe thead th {\n",
              "        text-align: right;\n",
              "    }\n",
              "</style>\n",
              "<table border=\"1\" class=\"dataframe\">\n",
              "  <thead>\n",
              "    <tr style=\"text-align: right;\">\n",
              "      <th></th>\n",
              "      <th>Infection_percent</th>\n",
              "      <th>Mortality_percent</th>\n",
              "      <th>UCI_percent</th>\n",
              "      <th>Result</th>\n",
              "    </tr>\n",
              "  </thead>\n",
              "  <tbody>\n",
              "    <tr>\n",
              "      <th>0</th>\n",
              "      <td>1.0</td>\n",
              "      <td>1.0</td>\n",
              "      <td>1.0</td>\n",
              "      <td>1.0</td>\n",
              "    </tr>\n",
              "    <tr>\n",
              "      <th>1</th>\n",
              "      <td>1.0</td>\n",
              "      <td>1.0</td>\n",
              "      <td>1.0</td>\n",
              "      <td>1.0</td>\n",
              "    </tr>\n",
              "    <tr>\n",
              "      <th>2</th>\n",
              "      <td>1.0</td>\n",
              "      <td>1.0</td>\n",
              "      <td>1.0</td>\n",
              "      <td>1.0</td>\n",
              "    </tr>\n",
              "    <tr>\n",
              "      <th>3</th>\n",
              "      <td>1.0</td>\n",
              "      <td>1.0</td>\n",
              "      <td>1.0</td>\n",
              "      <td>1.0</td>\n",
              "    </tr>\n",
              "    <tr>\n",
              "      <th>4</th>\n",
              "      <td>1.0</td>\n",
              "      <td>1.0</td>\n",
              "      <td>1.0</td>\n",
              "      <td>1.0</td>\n",
              "    </tr>\n",
              "    <tr>\n",
              "      <th>...</th>\n",
              "      <td>...</td>\n",
              "      <td>...</td>\n",
              "      <td>...</td>\n",
              "      <td>...</td>\n",
              "    </tr>\n",
              "    <tr>\n",
              "      <th>166321</th>\n",
              "      <td>1.0</td>\n",
              "      <td>1.0</td>\n",
              "      <td>1.0</td>\n",
              "      <td>1.0</td>\n",
              "    </tr>\n",
              "    <tr>\n",
              "      <th>166322</th>\n",
              "      <td>1.0</td>\n",
              "      <td>1.0</td>\n",
              "      <td>1.0</td>\n",
              "      <td>1.0</td>\n",
              "    </tr>\n",
              "    <tr>\n",
              "      <th>166323</th>\n",
              "      <td>1.0</td>\n",
              "      <td>1.0</td>\n",
              "      <td>1.0</td>\n",
              "      <td>1.0</td>\n",
              "    </tr>\n",
              "    <tr>\n",
              "      <th>166324</th>\n",
              "      <td>1.0</td>\n",
              "      <td>1.0</td>\n",
              "      <td>1.0</td>\n",
              "      <td>1.0</td>\n",
              "    </tr>\n",
              "    <tr>\n",
              "      <th>166325</th>\n",
              "      <td>1.0</td>\n",
              "      <td>1.0</td>\n",
              "      <td>1.0</td>\n",
              "      <td>1.0</td>\n",
              "    </tr>\n",
              "  </tbody>\n",
              "</table>\n",
              "<p>166326 rows × 4 columns</p>\n",
              "</div>\n",
              "      <button class=\"colab-df-convert\" onclick=\"convertToInteractive('df-a24b57cd-271d-4fdb-af80-80e997a14845')\"\n",
              "              title=\"Convert this dataframe to an interactive table.\"\n",
              "              style=\"display:none;\">\n",
              "        \n",
              "  <svg xmlns=\"http://www.w3.org/2000/svg\" height=\"24px\"viewBox=\"0 0 24 24\"\n",
              "       width=\"24px\">\n",
              "    <path d=\"M0 0h24v24H0V0z\" fill=\"none\"/>\n",
              "    <path d=\"M18.56 5.44l.94 2.06.94-2.06 2.06-.94-2.06-.94-.94-2.06-.94 2.06-2.06.94zm-11 1L8.5 8.5l.94-2.06 2.06-.94-2.06-.94L8.5 2.5l-.94 2.06-2.06.94zm10 10l.94 2.06.94-2.06 2.06-.94-2.06-.94-.94-2.06-.94 2.06-2.06.94z\"/><path d=\"M17.41 7.96l-1.37-1.37c-.4-.4-.92-.59-1.43-.59-.52 0-1.04.2-1.43.59L10.3 9.45l-7.72 7.72c-.78.78-.78 2.05 0 2.83L4 21.41c.39.39.9.59 1.41.59.51 0 1.02-.2 1.41-.59l7.78-7.78 2.81-2.81c.8-.78.8-2.07 0-2.86zM5.41 20L4 18.59l7.72-7.72 1.47 1.35L5.41 20z\"/>\n",
              "  </svg>\n",
              "      </button>\n",
              "      \n",
              "  <style>\n",
              "    .colab-df-container {\n",
              "      display:flex;\n",
              "      flex-wrap:wrap;\n",
              "      gap: 12px;\n",
              "    }\n",
              "\n",
              "    .colab-df-convert {\n",
              "      background-color: #E8F0FE;\n",
              "      border: none;\n",
              "      border-radius: 50%;\n",
              "      cursor: pointer;\n",
              "      display: none;\n",
              "      fill: #1967D2;\n",
              "      height: 32px;\n",
              "      padding: 0 0 0 0;\n",
              "      width: 32px;\n",
              "    }\n",
              "\n",
              "    .colab-df-convert:hover {\n",
              "      background-color: #E2EBFA;\n",
              "      box-shadow: 0px 1px 2px rgba(60, 64, 67, 0.3), 0px 1px 3px 1px rgba(60, 64, 67, 0.15);\n",
              "      fill: #174EA6;\n",
              "    }\n",
              "\n",
              "    [theme=dark] .colab-df-convert {\n",
              "      background-color: #3B4455;\n",
              "      fill: #D2E3FC;\n",
              "    }\n",
              "\n",
              "    [theme=dark] .colab-df-convert:hover {\n",
              "      background-color: #434B5C;\n",
              "      box-shadow: 0px 1px 3px 1px rgba(0, 0, 0, 0.15);\n",
              "      filter: drop-shadow(0px 1px 2px rgba(0, 0, 0, 0.3));\n",
              "      fill: #FFFFFF;\n",
              "    }\n",
              "  </style>\n",
              "\n",
              "      <script>\n",
              "        const buttonEl =\n",
              "          document.querySelector('#df-a24b57cd-271d-4fdb-af80-80e997a14845 button.colab-df-convert');\n",
              "        buttonEl.style.display =\n",
              "          google.colab.kernel.accessAllowed ? 'block' : 'none';\n",
              "\n",
              "        async function convertToInteractive(key) {\n",
              "          const element = document.querySelector('#df-a24b57cd-271d-4fdb-af80-80e997a14845');\n",
              "          const dataTable =\n",
              "            await google.colab.kernel.invokeFunction('convertToInteractive',\n",
              "                                                     [key], {});\n",
              "          if (!dataTable) return;\n",
              "\n",
              "          const docLinkHtml = 'Like what you see? Visit the ' +\n",
              "            '<a target=\"_blank\" href=https://colab.research.google.com/notebooks/data_table.ipynb>data table notebook</a>'\n",
              "            + ' to learn more about interactive tables.';\n",
              "          element.innerHTML = '';\n",
              "          dataTable['output_type'] = 'display_data';\n",
              "          await google.colab.output.renderOutput(dataTable, element);\n",
              "          const docLink = document.createElement('div');\n",
              "          docLink.innerHTML = docLinkHtml;\n",
              "          element.appendChild(docLink);\n",
              "        }\n",
              "      </script>\n",
              "    </div>\n",
              "  </div>\n",
              "  "
            ]
          },
          "metadata": {},
          "execution_count": 12
        }
      ]
    },
    {
      "cell_type": "code",
      "source": [
        "print(\"\\nResult\")\n",
        "print(len(mycol[mycol[\"Result\"]==1]))\n",
        "print(len(mycol[mycol[\"Result\"]==2]))\n",
        "print(len(mycol[mycol[\"Result\"]==3]))"
      ],
      "metadata": {
        "colab": {
          "base_uri": "https://localhost:8080/"
        },
        "id": "yZJP5cM-e4Jj",
        "outputId": "b04d01f5-940b-4d42-f960-8e4315663603"
      },
      "execution_count": null,
      "outputs": [
        {
          "output_type": "stream",
          "name": "stdout",
          "text": [
            "\n",
            "Result\n",
            "163313\n",
            "1728\n",
            "1285\n"
          ]
        }
      ]
    },
    {
      "cell_type": "markdown",
      "source": [
        "Con la información obtenida entonces añado esta columna al dataset principal"
      ],
      "metadata": {
        "id": "HVt2zLz3_Crm"
      }
    },
    {
      "cell_type": "code",
      "source": [
        "#Añado la columna\n",
        "myData[\"clasification\"]=mycol[\"Result\"]\n",
        "\n",
        "#Visualizo\n",
        "myData"
      ],
      "metadata": {
        "colab": {
          "base_uri": "https://localhost:8080/",
          "height": 424
        },
        "id": "L6WLbFLd_Jty",
        "outputId": "861db62e-78c5-4a2b-ca5d-b00ed4f8acc1"
      },
      "execution_count": null,
      "outputs": [
        {
          "output_type": "execute_result",
          "data": {
            "text/plain": [
              "       iso_code continent     location  new_cases  new_deaths  \\\n",
              "0           AFG      Asia  Afghanistan        5.0         0.0   \n",
              "1           AFG      Asia  Afghanistan        0.0         0.0   \n",
              "2           AFG      Asia  Afghanistan        0.0         0.0   \n",
              "3           AFG      Asia  Afghanistan        0.0         0.0   \n",
              "4           AFG      Asia  Afghanistan        0.0         0.0   \n",
              "...         ...       ...          ...        ...         ...   \n",
              "166321      ZWE    Africa     Zimbabwe      491.0         0.0   \n",
              "166322      ZWE    Africa     Zimbabwe      632.0         1.0   \n",
              "166323      ZWE    Africa     Zimbabwe        0.0         0.0   \n",
              "166324      ZWE    Africa     Zimbabwe     1236.0         1.0   \n",
              "166325      ZWE    Africa     Zimbabwe      280.0         0.0   \n",
              "\n",
              "        weekly_icu_admissions  population  clasification  \n",
              "0                         0.0  39835428.0            1.0  \n",
              "1                         0.0  39835428.0            1.0  \n",
              "2                         0.0  39835428.0            1.0  \n",
              "3                         0.0  39835428.0            1.0  \n",
              "4                         0.0  39835428.0            1.0  \n",
              "...                       ...         ...            ...  \n",
              "166321                    0.0  15092171.0            1.0  \n",
              "166322                    0.0  15092171.0            1.0  \n",
              "166323                    0.0  15092171.0            1.0  \n",
              "166324                    0.0  15092171.0            1.0  \n",
              "166325                    0.0  15092171.0            1.0  \n",
              "\n",
              "[166326 rows x 8 columns]"
            ],
            "text/html": [
              "\n",
              "  <div id=\"df-50cf02c9-c718-4bc1-ae74-c1d59a802c27\">\n",
              "    <div class=\"colab-df-container\">\n",
              "      <div>\n",
              "<style scoped>\n",
              "    .dataframe tbody tr th:only-of-type {\n",
              "        vertical-align: middle;\n",
              "    }\n",
              "\n",
              "    .dataframe tbody tr th {\n",
              "        vertical-align: top;\n",
              "    }\n",
              "\n",
              "    .dataframe thead th {\n",
              "        text-align: right;\n",
              "    }\n",
              "</style>\n",
              "<table border=\"1\" class=\"dataframe\">\n",
              "  <thead>\n",
              "    <tr style=\"text-align: right;\">\n",
              "      <th></th>\n",
              "      <th>iso_code</th>\n",
              "      <th>continent</th>\n",
              "      <th>location</th>\n",
              "      <th>new_cases</th>\n",
              "      <th>new_deaths</th>\n",
              "      <th>weekly_icu_admissions</th>\n",
              "      <th>population</th>\n",
              "      <th>clasification</th>\n",
              "    </tr>\n",
              "  </thead>\n",
              "  <tbody>\n",
              "    <tr>\n",
              "      <th>0</th>\n",
              "      <td>AFG</td>\n",
              "      <td>Asia</td>\n",
              "      <td>Afghanistan</td>\n",
              "      <td>5.0</td>\n",
              "      <td>0.0</td>\n",
              "      <td>0.0</td>\n",
              "      <td>39835428.0</td>\n",
              "      <td>1.0</td>\n",
              "    </tr>\n",
              "    <tr>\n",
              "      <th>1</th>\n",
              "      <td>AFG</td>\n",
              "      <td>Asia</td>\n",
              "      <td>Afghanistan</td>\n",
              "      <td>0.0</td>\n",
              "      <td>0.0</td>\n",
              "      <td>0.0</td>\n",
              "      <td>39835428.0</td>\n",
              "      <td>1.0</td>\n",
              "    </tr>\n",
              "    <tr>\n",
              "      <th>2</th>\n",
              "      <td>AFG</td>\n",
              "      <td>Asia</td>\n",
              "      <td>Afghanistan</td>\n",
              "      <td>0.0</td>\n",
              "      <td>0.0</td>\n",
              "      <td>0.0</td>\n",
              "      <td>39835428.0</td>\n",
              "      <td>1.0</td>\n",
              "    </tr>\n",
              "    <tr>\n",
              "      <th>3</th>\n",
              "      <td>AFG</td>\n",
              "      <td>Asia</td>\n",
              "      <td>Afghanistan</td>\n",
              "      <td>0.0</td>\n",
              "      <td>0.0</td>\n",
              "      <td>0.0</td>\n",
              "      <td>39835428.0</td>\n",
              "      <td>1.0</td>\n",
              "    </tr>\n",
              "    <tr>\n",
              "      <th>4</th>\n",
              "      <td>AFG</td>\n",
              "      <td>Asia</td>\n",
              "      <td>Afghanistan</td>\n",
              "      <td>0.0</td>\n",
              "      <td>0.0</td>\n",
              "      <td>0.0</td>\n",
              "      <td>39835428.0</td>\n",
              "      <td>1.0</td>\n",
              "    </tr>\n",
              "    <tr>\n",
              "      <th>...</th>\n",
              "      <td>...</td>\n",
              "      <td>...</td>\n",
              "      <td>...</td>\n",
              "      <td>...</td>\n",
              "      <td>...</td>\n",
              "      <td>...</td>\n",
              "      <td>...</td>\n",
              "      <td>...</td>\n",
              "    </tr>\n",
              "    <tr>\n",
              "      <th>166321</th>\n",
              "      <td>ZWE</td>\n",
              "      <td>Africa</td>\n",
              "      <td>Zimbabwe</td>\n",
              "      <td>491.0</td>\n",
              "      <td>0.0</td>\n",
              "      <td>0.0</td>\n",
              "      <td>15092171.0</td>\n",
              "      <td>1.0</td>\n",
              "    </tr>\n",
              "    <tr>\n",
              "      <th>166322</th>\n",
              "      <td>ZWE</td>\n",
              "      <td>Africa</td>\n",
              "      <td>Zimbabwe</td>\n",
              "      <td>632.0</td>\n",
              "      <td>1.0</td>\n",
              "      <td>0.0</td>\n",
              "      <td>15092171.0</td>\n",
              "      <td>1.0</td>\n",
              "    </tr>\n",
              "    <tr>\n",
              "      <th>166323</th>\n",
              "      <td>ZWE</td>\n",
              "      <td>Africa</td>\n",
              "      <td>Zimbabwe</td>\n",
              "      <td>0.0</td>\n",
              "      <td>0.0</td>\n",
              "      <td>0.0</td>\n",
              "      <td>15092171.0</td>\n",
              "      <td>1.0</td>\n",
              "    </tr>\n",
              "    <tr>\n",
              "      <th>166324</th>\n",
              "      <td>ZWE</td>\n",
              "      <td>Africa</td>\n",
              "      <td>Zimbabwe</td>\n",
              "      <td>1236.0</td>\n",
              "      <td>1.0</td>\n",
              "      <td>0.0</td>\n",
              "      <td>15092171.0</td>\n",
              "      <td>1.0</td>\n",
              "    </tr>\n",
              "    <tr>\n",
              "      <th>166325</th>\n",
              "      <td>ZWE</td>\n",
              "      <td>Africa</td>\n",
              "      <td>Zimbabwe</td>\n",
              "      <td>280.0</td>\n",
              "      <td>0.0</td>\n",
              "      <td>0.0</td>\n",
              "      <td>15092171.0</td>\n",
              "      <td>1.0</td>\n",
              "    </tr>\n",
              "  </tbody>\n",
              "</table>\n",
              "<p>166326 rows × 8 columns</p>\n",
              "</div>\n",
              "      <button class=\"colab-df-convert\" onclick=\"convertToInteractive('df-50cf02c9-c718-4bc1-ae74-c1d59a802c27')\"\n",
              "              title=\"Convert this dataframe to an interactive table.\"\n",
              "              style=\"display:none;\">\n",
              "        \n",
              "  <svg xmlns=\"http://www.w3.org/2000/svg\" height=\"24px\"viewBox=\"0 0 24 24\"\n",
              "       width=\"24px\">\n",
              "    <path d=\"M0 0h24v24H0V0z\" fill=\"none\"/>\n",
              "    <path d=\"M18.56 5.44l.94 2.06.94-2.06 2.06-.94-2.06-.94-.94-2.06-.94 2.06-2.06.94zm-11 1L8.5 8.5l.94-2.06 2.06-.94-2.06-.94L8.5 2.5l-.94 2.06-2.06.94zm10 10l.94 2.06.94-2.06 2.06-.94-2.06-.94-.94-2.06-.94 2.06-2.06.94z\"/><path d=\"M17.41 7.96l-1.37-1.37c-.4-.4-.92-.59-1.43-.59-.52 0-1.04.2-1.43.59L10.3 9.45l-7.72 7.72c-.78.78-.78 2.05 0 2.83L4 21.41c.39.39.9.59 1.41.59.51 0 1.02-.2 1.41-.59l7.78-7.78 2.81-2.81c.8-.78.8-2.07 0-2.86zM5.41 20L4 18.59l7.72-7.72 1.47 1.35L5.41 20z\"/>\n",
              "  </svg>\n",
              "      </button>\n",
              "      \n",
              "  <style>\n",
              "    .colab-df-container {\n",
              "      display:flex;\n",
              "      flex-wrap:wrap;\n",
              "      gap: 12px;\n",
              "    }\n",
              "\n",
              "    .colab-df-convert {\n",
              "      background-color: #E8F0FE;\n",
              "      border: none;\n",
              "      border-radius: 50%;\n",
              "      cursor: pointer;\n",
              "      display: none;\n",
              "      fill: #1967D2;\n",
              "      height: 32px;\n",
              "      padding: 0 0 0 0;\n",
              "      width: 32px;\n",
              "    }\n",
              "\n",
              "    .colab-df-convert:hover {\n",
              "      background-color: #E2EBFA;\n",
              "      box-shadow: 0px 1px 2px rgba(60, 64, 67, 0.3), 0px 1px 3px 1px rgba(60, 64, 67, 0.15);\n",
              "      fill: #174EA6;\n",
              "    }\n",
              "\n",
              "    [theme=dark] .colab-df-convert {\n",
              "      background-color: #3B4455;\n",
              "      fill: #D2E3FC;\n",
              "    }\n",
              "\n",
              "    [theme=dark] .colab-df-convert:hover {\n",
              "      background-color: #434B5C;\n",
              "      box-shadow: 0px 1px 3px 1px rgba(0, 0, 0, 0.15);\n",
              "      filter: drop-shadow(0px 1px 2px rgba(0, 0, 0, 0.3));\n",
              "      fill: #FFFFFF;\n",
              "    }\n",
              "  </style>\n",
              "\n",
              "      <script>\n",
              "        const buttonEl =\n",
              "          document.querySelector('#df-50cf02c9-c718-4bc1-ae74-c1d59a802c27 button.colab-df-convert');\n",
              "        buttonEl.style.display =\n",
              "          google.colab.kernel.accessAllowed ? 'block' : 'none';\n",
              "\n",
              "        async function convertToInteractive(key) {\n",
              "          const element = document.querySelector('#df-50cf02c9-c718-4bc1-ae74-c1d59a802c27');\n",
              "          const dataTable =\n",
              "            await google.colab.kernel.invokeFunction('convertToInteractive',\n",
              "                                                     [key], {});\n",
              "          if (!dataTable) return;\n",
              "\n",
              "          const docLinkHtml = 'Like what you see? Visit the ' +\n",
              "            '<a target=\"_blank\" href=https://colab.research.google.com/notebooks/data_table.ipynb>data table notebook</a>'\n",
              "            + ' to learn more about interactive tables.';\n",
              "          element.innerHTML = '';\n",
              "          dataTable['output_type'] = 'display_data';\n",
              "          await google.colab.output.renderOutput(dataTable, element);\n",
              "          const docLink = document.createElement('div');\n",
              "          docLink.innerHTML = docLinkHtml;\n",
              "          element.appendChild(docLink);\n",
              "        }\n",
              "      </script>\n",
              "    </div>\n",
              "  </div>\n",
              "  "
            ]
          },
          "metadata": {},
          "execution_count": 14
        }
      ]
    },
    {
      "cell_type": "markdown",
      "source": [
        "## Construcción del set de entrenamiento y prueba"
      ],
      "metadata": {
        "id": "dcmuXAm9_eGL"
      }
    },
    {
      "cell_type": "markdown",
      "source": [
        "Debido al gran volumen de datos, el set se va a dividir en 3 partes, de la siguiente forma:\n",
        "\n",
        "*   **Set de entrenamiento:** 70%\n",
        "*   **Set de prueba:** 30%\n",
        "\n",
        "Estos valores serán separados aleatoriamente por software, de esta forma se busca eliminar posibles problemas como el sesgo."
      ],
      "metadata": {
        "id": "l665eEd8_qsA"
      }
    },
    {
      "cell_type": "markdown",
      "source": [
        "Voy a analizar el set de argentina"
      ],
      "metadata": {
        "id": "U5K1xxahgJ8i"
      }
    },
    {
      "cell_type": "code",
      "source": [
        "#Obtengo el dataset de Argentina\n",
        "mySet=myData[myData[\"location\"]==\"Argentina\"]\n",
        "\n",
        "#Observo los resultados\n",
        "print(\"\\nResult\")\n",
        "print(len(mySet[mySet[\"clasification\"]==1]))\n",
        "print(len(mySet[mySet[\"clasification\"]==2]))\n",
        "print(len(mySet[mySet[\"clasification\"]==3]))"
      ],
      "metadata": {
        "colab": {
          "base_uri": "https://localhost:8080/"
        },
        "id": "QPcAVaZ7fn9A",
        "outputId": "643f6fcb-ea22-452a-8f1a-7df388e2280b"
      },
      "execution_count": null,
      "outputs": [
        {
          "output_type": "stream",
          "name": "stdout",
          "text": [
            "\n",
            "Result\n",
            "795\n",
            "0\n",
            "0\n"
          ]
        }
      ]
    },
    {
      "cell_type": "markdown",
      "source": [
        "Como se observa, Argentina no llegó a los niveles críticos, por lo cual es necesario tomar datos de países aleatorios para poder realizar el entrenamiento. Se van a tomar 500 datos de cada tipo, es decir, 500 con clasificación de 1, 500 con clasificación de 2 y 500 con clasificación de 3."
      ],
      "metadata": {
        "id": "YPiCMdMxgRoo"
      }
    },
    {
      "cell_type": "code",
      "source": [
        "#Tomo muestras aleatorias\n",
        "clas_1=myData[myData[\"clasification\"]==1].sample(500)\n",
        "clas_2=myData[myData[\"clasification\"]==2].sample(500)\n",
        "clas_3=myData[myData[\"clasification\"]==3].sample(500)\n",
        "\n",
        "#Añado todo\n",
        "mySet=pd.concat([clas_1,clas_2,clas_3])\n",
        "\n",
        "#Lo revuelvo completamente\n",
        "mySet=mySet.sample(frac = 1)\n",
        "\n",
        "#Visualizo\n",
        "mySet"
      ],
      "metadata": {
        "colab": {
          "base_uri": "https://localhost:8080/",
          "height": 424
        },
        "id": "jpsjBpJighMC",
        "outputId": "278efb5b-c36b-4ef4-de5c-1e400e8f3811"
      },
      "execution_count": null,
      "outputs": [
        {
          "output_type": "execute_result",
          "data": {
            "text/plain": [
              "       iso_code      continent                         location  new_cases  \\\n",
              "54351       FRA         Europe                           France     2624.0   \n",
              "113481      NOR         Europe                           Norway      173.0   \n",
              "141505      ESP         Europe                            Spain        0.0   \n",
              "31264       CHL  South America                            Chile     7709.0   \n",
              "19842       BES  North America  Bonaire Sint Eustatius and Saba       32.0   \n",
              "...         ...            ...                              ...        ...   \n",
              "107219      NLD         Europe                      Netherlands     5759.0   \n",
              "157082      GBR         Europe                   United Kingdom    44750.0   \n",
              "134510      SGP           Asia                        Singapore        7.0   \n",
              "39537       CZE         Europe                          Czechia      672.0   \n",
              "84135       LVA         Europe                           Latvia       74.0   \n",
              "\n",
              "        new_deaths  weekly_icu_admissions  population  clasification  \n",
              "54351         22.0                  328.0  67422000.0            2.0  \n",
              "113481         0.0                   10.0   5465629.0            2.0  \n",
              "141505         0.0                 1037.0  46745211.0            3.0  \n",
              "31264        198.0                 1443.0  19212362.0            3.0  \n",
              "19842          0.0                    0.0     26445.0            1.0  \n",
              "...            ...                    ...         ...            ...  \n",
              "107219        24.0                  321.0  17173094.0            2.0  \n",
              "157082        57.0                    0.0  68207114.0            1.0  \n",
              "134510         0.0                    0.0   5453600.0            1.0  \n",
              "39537         23.0                   70.0  10724553.0            2.0  \n",
              "84135          0.0                   19.0   1866934.0            3.0  \n",
              "\n",
              "[1500 rows x 8 columns]"
            ],
            "text/html": [
              "\n",
              "  <div id=\"df-dc230fc6-2374-44ad-8626-32975be63ee7\">\n",
              "    <div class=\"colab-df-container\">\n",
              "      <div>\n",
              "<style scoped>\n",
              "    .dataframe tbody tr th:only-of-type {\n",
              "        vertical-align: middle;\n",
              "    }\n",
              "\n",
              "    .dataframe tbody tr th {\n",
              "        vertical-align: top;\n",
              "    }\n",
              "\n",
              "    .dataframe thead th {\n",
              "        text-align: right;\n",
              "    }\n",
              "</style>\n",
              "<table border=\"1\" class=\"dataframe\">\n",
              "  <thead>\n",
              "    <tr style=\"text-align: right;\">\n",
              "      <th></th>\n",
              "      <th>iso_code</th>\n",
              "      <th>continent</th>\n",
              "      <th>location</th>\n",
              "      <th>new_cases</th>\n",
              "      <th>new_deaths</th>\n",
              "      <th>weekly_icu_admissions</th>\n",
              "      <th>population</th>\n",
              "      <th>clasification</th>\n",
              "    </tr>\n",
              "  </thead>\n",
              "  <tbody>\n",
              "    <tr>\n",
              "      <th>54351</th>\n",
              "      <td>FRA</td>\n",
              "      <td>Europe</td>\n",
              "      <td>France</td>\n",
              "      <td>2624.0</td>\n",
              "      <td>22.0</td>\n",
              "      <td>328.0</td>\n",
              "      <td>67422000.0</td>\n",
              "      <td>2.0</td>\n",
              "    </tr>\n",
              "    <tr>\n",
              "      <th>113481</th>\n",
              "      <td>NOR</td>\n",
              "      <td>Europe</td>\n",
              "      <td>Norway</td>\n",
              "      <td>173.0</td>\n",
              "      <td>0.0</td>\n",
              "      <td>10.0</td>\n",
              "      <td>5465629.0</td>\n",
              "      <td>2.0</td>\n",
              "    </tr>\n",
              "    <tr>\n",
              "      <th>141505</th>\n",
              "      <td>ESP</td>\n",
              "      <td>Europe</td>\n",
              "      <td>Spain</td>\n",
              "      <td>0.0</td>\n",
              "      <td>0.0</td>\n",
              "      <td>1037.0</td>\n",
              "      <td>46745211.0</td>\n",
              "      <td>3.0</td>\n",
              "    </tr>\n",
              "    <tr>\n",
              "      <th>31264</th>\n",
              "      <td>CHL</td>\n",
              "      <td>South America</td>\n",
              "      <td>Chile</td>\n",
              "      <td>7709.0</td>\n",
              "      <td>198.0</td>\n",
              "      <td>1443.0</td>\n",
              "      <td>19212362.0</td>\n",
              "      <td>3.0</td>\n",
              "    </tr>\n",
              "    <tr>\n",
              "      <th>19842</th>\n",
              "      <td>BES</td>\n",
              "      <td>North America</td>\n",
              "      <td>Bonaire Sint Eustatius and Saba</td>\n",
              "      <td>32.0</td>\n",
              "      <td>0.0</td>\n",
              "      <td>0.0</td>\n",
              "      <td>26445.0</td>\n",
              "      <td>1.0</td>\n",
              "    </tr>\n",
              "    <tr>\n",
              "      <th>...</th>\n",
              "      <td>...</td>\n",
              "      <td>...</td>\n",
              "      <td>...</td>\n",
              "      <td>...</td>\n",
              "      <td>...</td>\n",
              "      <td>...</td>\n",
              "      <td>...</td>\n",
              "      <td>...</td>\n",
              "    </tr>\n",
              "    <tr>\n",
              "      <th>107219</th>\n",
              "      <td>NLD</td>\n",
              "      <td>Europe</td>\n",
              "      <td>Netherlands</td>\n",
              "      <td>5759.0</td>\n",
              "      <td>24.0</td>\n",
              "      <td>321.0</td>\n",
              "      <td>17173094.0</td>\n",
              "      <td>2.0</td>\n",
              "    </tr>\n",
              "    <tr>\n",
              "      <th>157082</th>\n",
              "      <td>GBR</td>\n",
              "      <td>Europe</td>\n",
              "      <td>United Kingdom</td>\n",
              "      <td>44750.0</td>\n",
              "      <td>57.0</td>\n",
              "      <td>0.0</td>\n",
              "      <td>68207114.0</td>\n",
              "      <td>1.0</td>\n",
              "    </tr>\n",
              "    <tr>\n",
              "      <th>134510</th>\n",
              "      <td>SGP</td>\n",
              "      <td>Asia</td>\n",
              "      <td>Singapore</td>\n",
              "      <td>7.0</td>\n",
              "      <td>0.0</td>\n",
              "      <td>0.0</td>\n",
              "      <td>5453600.0</td>\n",
              "      <td>1.0</td>\n",
              "    </tr>\n",
              "    <tr>\n",
              "      <th>39537</th>\n",
              "      <td>CZE</td>\n",
              "      <td>Europe</td>\n",
              "      <td>Czechia</td>\n",
              "      <td>672.0</td>\n",
              "      <td>23.0</td>\n",
              "      <td>70.0</td>\n",
              "      <td>10724553.0</td>\n",
              "      <td>2.0</td>\n",
              "    </tr>\n",
              "    <tr>\n",
              "      <th>84135</th>\n",
              "      <td>LVA</td>\n",
              "      <td>Europe</td>\n",
              "      <td>Latvia</td>\n",
              "      <td>74.0</td>\n",
              "      <td>0.0</td>\n",
              "      <td>19.0</td>\n",
              "      <td>1866934.0</td>\n",
              "      <td>3.0</td>\n",
              "    </tr>\n",
              "  </tbody>\n",
              "</table>\n",
              "<p>1500 rows × 8 columns</p>\n",
              "</div>\n",
              "      <button class=\"colab-df-convert\" onclick=\"convertToInteractive('df-dc230fc6-2374-44ad-8626-32975be63ee7')\"\n",
              "              title=\"Convert this dataframe to an interactive table.\"\n",
              "              style=\"display:none;\">\n",
              "        \n",
              "  <svg xmlns=\"http://www.w3.org/2000/svg\" height=\"24px\"viewBox=\"0 0 24 24\"\n",
              "       width=\"24px\">\n",
              "    <path d=\"M0 0h24v24H0V0z\" fill=\"none\"/>\n",
              "    <path d=\"M18.56 5.44l.94 2.06.94-2.06 2.06-.94-2.06-.94-.94-2.06-.94 2.06-2.06.94zm-11 1L8.5 8.5l.94-2.06 2.06-.94-2.06-.94L8.5 2.5l-.94 2.06-2.06.94zm10 10l.94 2.06.94-2.06 2.06-.94-2.06-.94-.94-2.06-.94 2.06-2.06.94z\"/><path d=\"M17.41 7.96l-1.37-1.37c-.4-.4-.92-.59-1.43-.59-.52 0-1.04.2-1.43.59L10.3 9.45l-7.72 7.72c-.78.78-.78 2.05 0 2.83L4 21.41c.39.39.9.59 1.41.59.51 0 1.02-.2 1.41-.59l7.78-7.78 2.81-2.81c.8-.78.8-2.07 0-2.86zM5.41 20L4 18.59l7.72-7.72 1.47 1.35L5.41 20z\"/>\n",
              "  </svg>\n",
              "      </button>\n",
              "      \n",
              "  <style>\n",
              "    .colab-df-container {\n",
              "      display:flex;\n",
              "      flex-wrap:wrap;\n",
              "      gap: 12px;\n",
              "    }\n",
              "\n",
              "    .colab-df-convert {\n",
              "      background-color: #E8F0FE;\n",
              "      border: none;\n",
              "      border-radius: 50%;\n",
              "      cursor: pointer;\n",
              "      display: none;\n",
              "      fill: #1967D2;\n",
              "      height: 32px;\n",
              "      padding: 0 0 0 0;\n",
              "      width: 32px;\n",
              "    }\n",
              "\n",
              "    .colab-df-convert:hover {\n",
              "      background-color: #E2EBFA;\n",
              "      box-shadow: 0px 1px 2px rgba(60, 64, 67, 0.3), 0px 1px 3px 1px rgba(60, 64, 67, 0.15);\n",
              "      fill: #174EA6;\n",
              "    }\n",
              "\n",
              "    [theme=dark] .colab-df-convert {\n",
              "      background-color: #3B4455;\n",
              "      fill: #D2E3FC;\n",
              "    }\n",
              "\n",
              "    [theme=dark] .colab-df-convert:hover {\n",
              "      background-color: #434B5C;\n",
              "      box-shadow: 0px 1px 3px 1px rgba(0, 0, 0, 0.15);\n",
              "      filter: drop-shadow(0px 1px 2px rgba(0, 0, 0, 0.3));\n",
              "      fill: #FFFFFF;\n",
              "    }\n",
              "  </style>\n",
              "\n",
              "      <script>\n",
              "        const buttonEl =\n",
              "          document.querySelector('#df-dc230fc6-2374-44ad-8626-32975be63ee7 button.colab-df-convert');\n",
              "        buttonEl.style.display =\n",
              "          google.colab.kernel.accessAllowed ? 'block' : 'none';\n",
              "\n",
              "        async function convertToInteractive(key) {\n",
              "          const element = document.querySelector('#df-dc230fc6-2374-44ad-8626-32975be63ee7');\n",
              "          const dataTable =\n",
              "            await google.colab.kernel.invokeFunction('convertToInteractive',\n",
              "                                                     [key], {});\n",
              "          if (!dataTable) return;\n",
              "\n",
              "          const docLinkHtml = 'Like what you see? Visit the ' +\n",
              "            '<a target=\"_blank\" href=https://colab.research.google.com/notebooks/data_table.ipynb>data table notebook</a>'\n",
              "            + ' to learn more about interactive tables.';\n",
              "          element.innerHTML = '';\n",
              "          dataTable['output_type'] = 'display_data';\n",
              "          await google.colab.output.renderOutput(dataTable, element);\n",
              "          const docLink = document.createElement('div');\n",
              "          docLink.innerHTML = docLinkHtml;\n",
              "          element.appendChild(docLink);\n",
              "        }\n",
              "      </script>\n",
              "    </div>\n",
              "  </div>\n",
              "  "
            ]
          },
          "metadata": {},
          "execution_count": 16
        }
      ]
    },
    {
      "cell_type": "markdown",
      "source": [
        "Entrenamos los valores"
      ],
      "metadata": {
        "id": "ovHKFmi0foXx"
      }
    },
    {
      "cell_type": "code",
      "source": [
        "#Obtengo los valores que se ingresan\n",
        "X=mySet.loc[:,[\"new_cases\",\"new_deaths\",\"weekly_icu_admissions\",\"population\"]].values\n",
        "\n",
        "#Obtengo los resultados\n",
        "Y=mySet[\"clasification\"]"
      ],
      "metadata": {
        "id": "JnjQWTIWAjZA"
      },
      "execution_count": null,
      "outputs": []
    },
    {
      "cell_type": "code",
      "source": [
        "# Se separán los datos en train, test y validación\n",
        "\n",
        "train_size = 0.8\n",
        "\n",
        "# Se separan los datos de entrenamiento\n",
        "\n",
        "X_train, X_rem, Y_train, Y_rem = train_test_split(X, Y, train_size=0.8)\n",
        "\n",
        "# Se separán los datos de validación y de test\n",
        "\n",
        "test_size = 0.5\n",
        "\n",
        "X_valid, X_test, Y_valid, Y_test = train_test_split(X_rem, Y_rem, test_size=0.5)\n",
        "\n",
        "print(X_train.shape)\n",
        "print(Y_train.shape)\n",
        "print(X_valid.shape)\n",
        "print(Y_valid.shape)\n",
        "print(X_test.shape) \n",
        "print(Y_test.shape)"
      ],
      "metadata": {
        "colab": {
          "base_uri": "https://localhost:8080/"
        },
        "id": "FbKmNf2tPVFJ",
        "outputId": "b10fa261-3ab4-4542-c0ab-8c9ae7c6c89a"
      },
      "execution_count": null,
      "outputs": [
        {
          "output_type": "stream",
          "name": "stdout",
          "text": [
            "(1200, 4)\n",
            "(1200,)\n",
            "(150, 4)\n",
            "(150,)\n",
            "(150, 4)\n",
            "(150,)\n"
          ]
        }
      ]
    },
    {
      "cell_type": "code",
      "source": [
        "#Verifico las formas\n",
        "print(X.shape)\n",
        "print(Y.shape)"
      ],
      "metadata": {
        "colab": {
          "base_uri": "https://localhost:8080/"
        },
        "id": "iNIHGezuBDD0",
        "outputId": "e559605d-362f-4083-9240-0411e9bfaa3a"
      },
      "execution_count": null,
      "outputs": [
        {
          "output_type": "stream",
          "name": "stdout",
          "text": [
            "(1500, 4)\n",
            "(1500,)\n"
          ]
        }
      ]
    },
    {
      "cell_type": "code",
      "source": [
        "#Verifico que no haya datos nulos\n",
        "print(np.any(np.isnan(X)),np.any(np.isnan(Y)))"
      ],
      "metadata": {
        "colab": {
          "base_uri": "https://localhost:8080/"
        },
        "id": "6tSh7PKdJFA_",
        "outputId": "3f53766e-c2d7-420c-ba46-bdd10f84fa6d"
      },
      "execution_count": null,
      "outputs": [
        {
          "output_type": "stream",
          "name": "stdout",
          "text": [
            "False False\n"
          ]
        }
      ]
    },
    {
      "cell_type": "code",
      "source": [
        "#Verifico que todos los datos sean finitos\n",
        "print(np.all(np.isfinite(X)),np.all(np.isfinite(Y)))"
      ],
      "metadata": {
        "colab": {
          "base_uri": "https://localhost:8080/"
        },
        "id": "md1hrVS8JLxV",
        "outputId": "6ffd7e23-e5e8-4686-a469-8e067286656a"
      },
      "execution_count": null,
      "outputs": [
        {
          "output_type": "stream",
          "name": "stdout",
          "text": [
            "True True\n"
          ]
        }
      ]
    },
    {
      "cell_type": "markdown",
      "source": [
        "## Regresión lógistica"
      ],
      "metadata": {
        "id": "qfaKgPEdPIvp"
      }
    },
    {
      "cell_type": "code",
      "source": [
        "\n",
        "#Creamos el modelo de regresión logistca\n",
        "logistic_regressionP_clf = LogisticRegression(random_state=0, max_iter=10000)\n",
        "logistic_regressionP_clf.fit(X_train, Y_train)"
      ],
      "metadata": {
        "id": "8hQfOXdl8ZXC",
        "colab": {
          "base_uri": "https://localhost:8080/"
        },
        "outputId": "e9eb5cc3-c386-49af-e1ad-bcc5e69fb730"
      },
      "execution_count": null,
      "outputs": [
        {
          "output_type": "execute_result",
          "data": {
            "text/plain": [
              "LogisticRegression(max_iter=10000, random_state=0)"
            ]
          },
          "metadata": {},
          "execution_count": 22
        }
      ]
    },
    {
      "cell_type": "code",
      "source": [
        "#Probamos el score entre X_test y Y_test\n",
        "logistic_regressionP_clf.score(X_test, Y_test)"
      ],
      "metadata": {
        "id": "NxVs8h5x8cni",
        "colab": {
          "base_uri": "https://localhost:8080/"
        },
        "outputId": "8c85a61b-57c7-4133-e7f7-e4f58e884870"
      },
      "execution_count": null,
      "outputs": [
        {
          "output_type": "execute_result",
          "data": {
            "text/plain": [
              "0.34"
            ]
          },
          "metadata": {},
          "execution_count": 23
        }
      ]
    },
    {
      "cell_type": "code",
      "source": [
        "#Probamos el score entre X_valid y Y_valid\n",
        "logistic_regressionP_clf.score(X_valid, Y_valid)"
      ],
      "metadata": {
        "colab": {
          "base_uri": "https://localhost:8080/"
        },
        "id": "PAKrCGXT8emb",
        "outputId": "b5dd710e-e074-4f4d-a4b5-1b271cabbe0a"
      },
      "execution_count": null,
      "outputs": [
        {
          "output_type": "execute_result",
          "data": {
            "text/plain": [
              "0.36666666666666664"
            ]
          },
          "metadata": {},
          "execution_count": 24
        }
      ]
    },
    {
      "cell_type": "code",
      "source": [
        "# Proceso de k-folds\n",
        "k_folds = KFold(10, random_state=1, shuffle = True)\n",
        "X_ = np.concatenate((X_train, X_test))\n",
        "Y_ = np.concatenate((Y_train, Y_test))\n",
        "scores_valid = np.zeros(10)\n",
        "for pos, (train, test) in enumerate(k_folds.split( X_, Y_)): \n",
        "\n",
        "  logistic_regressionP_clf.fit(X_[train], Y_[train])\n",
        "  y_pred = logistic_regressionP_clf.predict(X_[test])\n",
        "  scores_valid[pos] = logistic_regressionP_clf.score(X_valid,Y_valid)\n",
        "  plot_confusion_matrix(logistic_regressionP_clf, X_valid, Y_valid, cmap='GnBu')\n",
        "  y_pred_valid = logistic_regressionP_clf.predict(X_valid)\n",
        "  print(classification_report(Y_valid, y_pred_valid))\n",
        "  plt.show() \n",
        "\n",
        "print(f'El promedio en validación es de {round(scores_valid.mean(),4)}')"
      ],
      "metadata": {
        "colab": {
          "base_uri": "https://localhost:8080/",
          "height": 1000
        },
        "id": "eTxZnLxF8hsp",
        "outputId": "406e6938-7d28-4172-d49f-55f2a7c5706a"
      },
      "execution_count": null,
      "outputs": [
        {
          "output_type": "stream",
          "name": "stdout",
          "text": [
            "              precision    recall  f1-score   support\n",
            "\n",
            "         1.0       0.37      1.00      0.54        55\n",
            "         2.0       0.00      0.00      0.00        38\n",
            "         3.0       0.00      0.00      0.00        57\n",
            "\n",
            "    accuracy                           0.37       150\n",
            "   macro avg       0.12      0.33      0.18       150\n",
            "weighted avg       0.13      0.37      0.20       150\n",
            "\n"
          ]
        },
        {
          "output_type": "stream",
          "name": "stderr",
          "text": [
            "/usr/local/lib/python3.7/dist-packages/sklearn/utils/deprecation.py:87: FutureWarning: Function plot_confusion_matrix is deprecated; Function `plot_confusion_matrix` is deprecated in 1.0 and will be removed in 1.2. Use one of the class methods: ConfusionMatrixDisplay.from_predictions or ConfusionMatrixDisplay.from_estimator.\n",
            "  warnings.warn(msg, category=FutureWarning)\n",
            "/usr/local/lib/python3.7/dist-packages/sklearn/metrics/_classification.py:1318: UndefinedMetricWarning: Precision and F-score are ill-defined and being set to 0.0 in labels with no predicted samples. Use `zero_division` parameter to control this behavior.\n",
            "  _warn_prf(average, modifier, msg_start, len(result))\n",
            "/usr/local/lib/python3.7/dist-packages/sklearn/metrics/_classification.py:1318: UndefinedMetricWarning: Precision and F-score are ill-defined and being set to 0.0 in labels with no predicted samples. Use `zero_division` parameter to control this behavior.\n",
            "  _warn_prf(average, modifier, msg_start, len(result))\n",
            "/usr/local/lib/python3.7/dist-packages/sklearn/metrics/_classification.py:1318: UndefinedMetricWarning: Precision and F-score are ill-defined and being set to 0.0 in labels with no predicted samples. Use `zero_division` parameter to control this behavior.\n",
            "  _warn_prf(average, modifier, msg_start, len(result))\n"
          ]
        },
        {
          "output_type": "display_data",
          "data": {
            "text/plain": [
              "<Figure size 432x288 with 2 Axes>"
            ],
            "image/png": "[encoded data removed]"
          },
          "metadata": {
            "needs_background": "light"
          }
        },
        {
          "output_type": "stream",
          "name": "stdout",
          "text": [
            "              precision    recall  f1-score   support\n",
            "\n",
            "         1.0       0.37      1.00      0.54        55\n",
            "         2.0       0.00      0.00      0.00        38\n",
            "         3.0       0.00      0.00      0.00        57\n",
            "\n",
            "    accuracy                           0.37       150\n",
            "   macro avg       0.12      0.33      0.18       150\n",
            "weighted avg       0.13      0.37      0.20       150\n",
            "\n"
          ]
        },
        {
          "output_type": "stream",
          "name": "stderr",
          "text": [
            "/usr/local/lib/python3.7/dist-packages/sklearn/utils/deprecation.py:87: FutureWarning: Function plot_confusion_matrix is deprecated; Function `plot_confusion_matrix` is deprecated in 1.0 and will be removed in 1.2. Use one of the class methods: ConfusionMatrixDisplay.from_predictions or ConfusionMatrixDisplay.from_estimator.\n",
            "  warnings.warn(msg, category=FutureWarning)\n",
            "/usr/local/lib/python3.7/dist-packages/sklearn/metrics/_classification.py:1318: UndefinedMetricWarning: Precision and F-score are ill-defined and being set to 0.0 in labels with no predicted samples. Use `zero_division` parameter to control this behavior.\n",
            "  _warn_prf(average, modifier, msg_start, len(result))\n",
            "/usr/local/lib/python3.7/dist-packages/sklearn/metrics/_classification.py:1318: UndefinedMetricWarning: Precision and F-score are ill-defined and being set to 0.0 in labels with no predicted samples. Use `zero_division` parameter to control this behavior.\n",
            "  _warn_prf(average, modifier, msg_start, len(result))\n",
            "/usr/local/lib/python3.7/dist-packages/sklearn/metrics/_classification.py:1318: UndefinedMetricWarning: Precision and F-score are ill-defined and being set to 0.0 in labels with no predicted samples. Use `zero_division` parameter to control this behavior.\n",
            "  _warn_prf(average, modifier, msg_start, len(result))\n"
          ]
        },
        {
          "output_type": "display_data",
          "data": {
            "text/plain": [
              "<Figure size 432x288 with 2 Axes>"
            ],
            "image/png": "[encoded data removed]"
          },
          "metadata": {
            "needs_background": "light"
          }
        },
        {
          "output_type": "stream",
          "name": "stderr",
          "text": [
            "/usr/local/lib/python3.7/dist-packages/sklearn/utils/deprecation.py:87: FutureWarning: Function plot_confusion_matrix is deprecated; Function `plot_confusion_matrix` is deprecated in 1.0 and will be removed in 1.2. Use one of the class methods: ConfusionMatrixDisplay.from_predictions or ConfusionMatrixDisplay.from_estimator.\n",
            "  warnings.warn(msg, category=FutureWarning)\n"
          ]
        },
        {
          "output_type": "stream",
          "name": "stdout",
          "text": [
            "              precision    recall  f1-score   support\n",
            "\n",
            "         1.0       0.37      1.00      0.54        55\n",
            "         2.0       0.00      0.00      0.00        38\n",
            "         3.0       0.00      0.00      0.00        57\n",
            "\n",
            "    accuracy                           0.37       150\n",
            "   macro avg       0.12      0.33      0.18       150\n",
            "weighted avg       0.13      0.37      0.20       150\n",
            "\n"
          ]
        },
        {
          "output_type": "stream",
          "name": "stderr",
          "text": [
            "/usr/local/lib/python3.7/dist-packages/sklearn/metrics/_classification.py:1318: UndefinedMetricWarning: Precision and F-score are ill-defined and being set to 0.0 in labels with no predicted samples. Use `zero_division` parameter to control this behavior.\n",
            "  _warn_prf(average, modifier, msg_start, len(result))\n",
            "/usr/local/lib/python3.7/dist-packages/sklearn/metrics/_classification.py:1318: UndefinedMetricWarning: Precision and F-score are ill-defined and being set to 0.0 in labels with no predicted samples. Use `zero_division` parameter to control this behavior.\n",
            "  _warn_prf(average, modifier, msg_start, len(result))\n",
            "/usr/local/lib/python3.7/dist-packages/sklearn/metrics/_classification.py:1318: UndefinedMetricWarning: Precision and F-score are ill-defined and being set to 0.0 in labels with no predicted samples. Use `zero_division` parameter to control this behavior.\n",
            "  _warn_prf(average, modifier, msg_start, len(result))\n"
          ]
        },
        {
          "output_type": "display_data",
          "data": {
            "text/plain": [
              "<Figure size 432x288 with 2 Axes>"
            ],
            "image/png": "[encoded data removed]"
          },
          "metadata": {
            "needs_background": "light"
          }
        },
        {
          "output_type": "stream",
          "name": "stderr",
          "text": [
            "/usr/local/lib/python3.7/dist-packages/sklearn/utils/deprecation.py:87: FutureWarning: Function plot_confusion_matrix is deprecated; Function `plot_confusion_matrix` is deprecated in 1.0 and will be removed in 1.2. Use one of the class methods: ConfusionMatrixDisplay.from_predictions or ConfusionMatrixDisplay.from_estimator.\n",
            "  warnings.warn(msg, category=FutureWarning)\n"
          ]
        },
        {
          "output_type": "stream",
          "name": "stdout",
          "text": [
            "              precision    recall  f1-score   support\n",
            "\n",
            "         1.0       0.39      0.82      0.53        55\n",
            "         2.0       0.51      0.47      0.49        38\n",
            "         3.0       0.00      0.00      0.00        57\n",
            "\n",
            "    accuracy                           0.42       150\n",
            "   macro avg       0.30      0.43      0.34       150\n",
            "weighted avg       0.27      0.42      0.32       150\n",
            "\n"
          ]
        },
        {
          "output_type": "stream",
          "name": "stderr",
          "text": [
            "/usr/local/lib/python3.7/dist-packages/sklearn/metrics/_classification.py:1318: UndefinedMetricWarning: Precision and F-score are ill-defined and being set to 0.0 in labels with no predicted samples. Use `zero_division` parameter to control this behavior.\n",
            "  _warn_prf(average, modifier, msg_start, len(result))\n",
            "/usr/local/lib/python3.7/dist-packages/sklearn/metrics/_classification.py:1318: UndefinedMetricWarning: Precision and F-score are ill-defined and being set to 0.0 in labels with no predicted samples. Use `zero_division` parameter to control this behavior.\n",
            "  _warn_prf(average, modifier, msg_start, len(result))\n",
            "/usr/local/lib/python3.7/dist-packages/sklearn/metrics/_classification.py:1318: UndefinedMetricWarning: Precision and F-score are ill-defined and being set to 0.0 in labels with no predicted samples. Use `zero_division` parameter to control this behavior.\n",
            "  _warn_prf(average, modifier, msg_start, len(result))\n"
          ]
        },
        {
          "output_type": "display_data",
          "data": {
            "text/plain": [
              "<Figure size 432x288 with 2 Axes>"
            ],
            "image/png": "[encoded data removed]"
          },
          "metadata": {
            "needs_background": "light"
          }
        },
        {
          "output_type": "stream",
          "name": "stderr",
          "text": [
            "/usr/local/lib/python3.7/dist-packages/sklearn/utils/deprecation.py:87: FutureWarning: Function plot_confusion_matrix is deprecated; Function `plot_confusion_matrix` is deprecated in 1.0 and will be removed in 1.2. Use one of the class methods: ConfusionMatrixDisplay.from_predictions or ConfusionMatrixDisplay.from_estimator.\n",
            "  warnings.warn(msg, category=FutureWarning)\n",
            "/usr/local/lib/python3.7/dist-packages/sklearn/metrics/_classification.py:1318: UndefinedMetricWarning: Precision and F-score are ill-defined and being set to 0.0 in labels with no predicted samples. Use `zero_division` parameter to control this behavior.\n",
            "  _warn_prf(average, modifier, msg_start, len(result))\n",
            "/usr/local/lib/python3.7/dist-packages/sklearn/metrics/_classification.py:1318: UndefinedMetricWarning: Precision and F-score are ill-defined and being set to 0.0 in labels with no predicted samples. Use `zero_division` parameter to control this behavior.\n",
            "  _warn_prf(average, modifier, msg_start, len(result))\n",
            "/usr/local/lib/python3.7/dist-packages/sklearn/metrics/_classification.py:1318: UndefinedMetricWarning: Precision and F-score are ill-defined and being set to 0.0 in labels with no predicted samples. Use `zero_division` parameter to control this behavior.\n",
            "  _warn_prf(average, modifier, msg_start, len(result))\n"
          ]
        },
        {
          "output_type": "stream",
          "name": "stdout",
          "text": [
            "              precision    recall  f1-score   support\n",
            "\n",
            "         1.0       0.37      1.00      0.54        55\n",
            "         2.0       0.00      0.00      0.00        38\n",
            "         3.0       0.00      0.00      0.00        57\n",
            "\n",
            "    accuracy                           0.37       150\n",
            "   macro avg       0.12      0.33      0.18       150\n",
            "weighted avg       0.13      0.37      0.20       150\n",
            "\n"
          ]
        },
        {
          "output_type": "display_data",
          "data": {
            "text/plain": [
              "<Figure size 432x288 with 2 Axes>"
            ],
            "image/png": "[encoded data removed]"
          },
          "metadata": {
            "needs_background": "light"
          }
        },
        {
          "output_type": "stream",
          "name": "stderr",
          "text": [
            "/usr/local/lib/python3.7/dist-packages/sklearn/utils/deprecation.py:87: FutureWarning: Function plot_confusion_matrix is deprecated; Function `plot_confusion_matrix` is deprecated in 1.0 and will be removed in 1.2. Use one of the class methods: ConfusionMatrixDisplay.from_predictions or ConfusionMatrixDisplay.from_estimator.\n",
            "  warnings.warn(msg, category=FutureWarning)\n",
            "/usr/local/lib/python3.7/dist-packages/sklearn/metrics/_classification.py:1318: UndefinedMetricWarning: Precision and F-score are ill-defined and being set to 0.0 in labels with no predicted samples. Use `zero_division` parameter to control this behavior.\n",
            "  _warn_prf(average, modifier, msg_start, len(result))\n",
            "/usr/local/lib/python3.7/dist-packages/sklearn/metrics/_classification.py:1318: UndefinedMetricWarning: Precision and F-score are ill-defined and being set to 0.0 in labels with no predicted samples. Use `zero_division` parameter to control this behavior.\n",
            "  _warn_prf(average, modifier, msg_start, len(result))\n",
            "/usr/local/lib/python3.7/dist-packages/sklearn/metrics/_classification.py:1318: UndefinedMetricWarning: Precision and F-score are ill-defined and being set to 0.0 in labels with no predicted samples. Use `zero_division` parameter to control this behavior.\n",
            "  _warn_prf(average, modifier, msg_start, len(result))\n"
          ]
        },
        {
          "output_type": "stream",
          "name": "stdout",
          "text": [
            "              precision    recall  f1-score   support\n",
            "\n",
            "         1.0       0.38      0.82      0.52        55\n",
            "         2.0       0.53      0.45      0.49        38\n",
            "         3.0       0.00      0.00      0.00        57\n",
            "\n",
            "    accuracy                           0.41       150\n",
            "   macro avg       0.30      0.42      0.34       150\n",
            "weighted avg       0.27      0.41      0.31       150\n",
            "\n"
          ]
        },
        {
          "output_type": "display_data",
          "data": {
            "text/plain": [
              "<Figure size 432x288 with 2 Axes>"
            ],
            "image/png": "[encoded data removed]"
          },
          "metadata": {
            "needs_background": "light"
          }
        },
        {
          "output_type": "stream",
          "name": "stderr",
          "text": [
            "/usr/local/lib/python3.7/dist-packages/sklearn/utils/deprecation.py:87: FutureWarning: Function plot_confusion_matrix is deprecated; Function `plot_confusion_matrix` is deprecated in 1.0 and will be removed in 1.2. Use one of the class methods: ConfusionMatrixDisplay.from_predictions or ConfusionMatrixDisplay.from_estimator.\n",
            "  warnings.warn(msg, category=FutureWarning)\n",
            "/usr/local/lib/python3.7/dist-packages/sklearn/metrics/_classification.py:1318: UndefinedMetricWarning: Precision and F-score are ill-defined and being set to 0.0 in labels with no predicted samples. Use `zero_division` parameter to control this behavior.\n",
            "  _warn_prf(average, modifier, msg_start, len(result))\n",
            "/usr/local/lib/python3.7/dist-packages/sklearn/metrics/_classification.py:1318: UndefinedMetricWarning: Precision and F-score are ill-defined and being set to 0.0 in labels with no predicted samples. Use `zero_division` parameter to control this behavior.\n",
            "  _warn_prf(average, modifier, msg_start, len(result))\n",
            "/usr/local/lib/python3.7/dist-packages/sklearn/metrics/_classification.py:1318: UndefinedMetricWarning: Precision and F-score are ill-defined and being set to 0.0 in labels with no predicted samples. Use `zero_division` parameter to control this behavior.\n",
            "  _warn_prf(average, modifier, msg_start, len(result))\n"
          ]
        },
        {
          "output_type": "stream",
          "name": "stdout",
          "text": [
            "              precision    recall  f1-score   support\n",
            "\n",
            "         1.0       0.37      1.00      0.54        55\n",
            "         2.0       0.00      0.00      0.00        38\n",
            "         3.0       0.00      0.00      0.00        57\n",
            "\n",
            "    accuracy                           0.37       150\n",
            "   macro avg       0.12      0.33      0.18       150\n",
            "weighted avg       0.13      0.37      0.20       150\n",
            "\n"
          ]
        },
        {
          "output_type": "display_data",
          "data": {
            "text/plain": [
              "<Figure size 432x288 with 2 Axes>"
            ],
            "image/png": "[encoded data removed]"
          },
          "metadata": {
            "needs_background": "light"
          }
        },
        {
          "output_type": "stream",
          "name": "stderr",
          "text": [
            "/usr/local/lib/python3.7/dist-packages/sklearn/utils/deprecation.py:87: FutureWarning: Function plot_confusion_matrix is deprecated; Function `plot_confusion_matrix` is deprecated in 1.0 and will be removed in 1.2. Use one of the class methods: ConfusionMatrixDisplay.from_predictions or ConfusionMatrixDisplay.from_estimator.\n",
            "  warnings.warn(msg, category=FutureWarning)\n"
          ]
        },
        {
          "output_type": "stream",
          "name": "stdout",
          "text": [
            "              precision    recall  f1-score   support\n",
            "\n",
            "         1.0       0.37      1.00      0.54        55\n",
            "         2.0       0.00      0.00      0.00        38\n",
            "         3.0       0.00      0.00      0.00        57\n",
            "\n",
            "    accuracy                           0.37       150\n",
            "   macro avg       0.12      0.33      0.18       150\n",
            "weighted avg       0.13      0.37      0.20       150\n",
            "\n"
          ]
        },
        {
          "output_type": "stream",
          "name": "stderr",
          "text": [
            "/usr/local/lib/python3.7/dist-packages/sklearn/metrics/_classification.py:1318: UndefinedMetricWarning: Precision and F-score are ill-defined and being set to 0.0 in labels with no predicted samples. Use `zero_division` parameter to control this behavior.\n",
            "  _warn_prf(average, modifier, msg_start, len(result))\n",
            "/usr/local/lib/python3.7/dist-packages/sklearn/metrics/_classification.py:1318: UndefinedMetricWarning: Precision and F-score are ill-defined and being set to 0.0 in labels with no predicted samples. Use `zero_division` parameter to control this behavior.\n",
            "  _warn_prf(average, modifier, msg_start, len(result))\n",
            "/usr/local/lib/python3.7/dist-packages/sklearn/metrics/_classification.py:1318: UndefinedMetricWarning: Precision and F-score are ill-defined and being set to 0.0 in labels with no predicted samples. Use `zero_division` parameter to control this behavior.\n",
            "  _warn_prf(average, modifier, msg_start, len(result))\n"
          ]
        },
        {
          "output_type": "display_data",
          "data": {
            "text/plain": [
              "<Figure size 432x288 with 2 Axes>"
            ],
            "image/png": "[encoded data removed]"
          },
          "metadata": {
            "needs_background": "light"
          }
        },
        {
          "output_type": "stream",
          "name": "stderr",
          "text": [
            "/usr/local/lib/python3.7/dist-packages/sklearn/utils/deprecation.py:87: FutureWarning: Function plot_confusion_matrix is deprecated; Function `plot_confusion_matrix` is deprecated in 1.0 and will be removed in 1.2. Use one of the class methods: ConfusionMatrixDisplay.from_predictions or ConfusionMatrixDisplay.from_estimator.\n",
            "  warnings.warn(msg, category=FutureWarning)\n",
            "/usr/local/lib/python3.7/dist-packages/sklearn/metrics/_classification.py:1318: UndefinedMetricWarning: Precision and F-score are ill-defined and being set to 0.0 in labels with no predicted samples. Use `zero_division` parameter to control this behavior.\n",
            "  _warn_prf(average, modifier, msg_start, len(result))\n",
            "/usr/local/lib/python3.7/dist-packages/sklearn/metrics/_classification.py:1318: UndefinedMetricWarning: Precision and F-score are ill-defined and being set to 0.0 in labels with no predicted samples. Use `zero_division` parameter to control this behavior.\n",
            "  _warn_prf(average, modifier, msg_start, len(result))\n",
            "/usr/local/lib/python3.7/dist-packages/sklearn/metrics/_classification.py:1318: UndefinedMetricWarning: Precision and F-score are ill-defined and being set to 0.0 in labels with no predicted samples. Use `zero_division` parameter to control this behavior.\n",
            "  _warn_prf(average, modifier, msg_start, len(result))\n"
          ]
        },
        {
          "output_type": "stream",
          "name": "stdout",
          "text": [
            "              precision    recall  f1-score   support\n",
            "\n",
            "         1.0       0.37      1.00      0.54        55\n",
            "         2.0       0.00      0.00      0.00        38\n",
            "         3.0       0.00      0.00      0.00        57\n",
            "\n",
            "    accuracy                           0.37       150\n",
            "   macro avg       0.12      0.33      0.18       150\n",
            "weighted avg       0.13      0.37      0.20       150\n",
            "\n"
          ]
        },
        {
          "output_type": "display_data",
          "data": {
            "text/plain": [
              "<Figure size 432x288 with 2 Axes>"
            ],
            "image/png": "[encoded data removed]"
          },
          "metadata": {
            "needs_background": "light"
          }
        },
        {
          "output_type": "stream",
          "name": "stderr",
          "text": [
            "/usr/local/lib/python3.7/dist-packages/sklearn/utils/deprecation.py:87: FutureWarning: Function plot_confusion_matrix is deprecated; Function `plot_confusion_matrix` is deprecated in 1.0 and will be removed in 1.2. Use one of the class methods: ConfusionMatrixDisplay.from_predictions or ConfusionMatrixDisplay.from_estimator.\n",
            "  warnings.warn(msg, category=FutureWarning)\n",
            "/usr/local/lib/python3.7/dist-packages/sklearn/metrics/_classification.py:1318: UndefinedMetricWarning: Precision and F-score are ill-defined and being set to 0.0 in labels with no predicted samples. Use `zero_division` parameter to control this behavior.\n",
            "  _warn_prf(average, modifier, msg_start, len(result))\n",
            "/usr/local/lib/python3.7/dist-packages/sklearn/metrics/_classification.py:1318: UndefinedMetricWarning: Precision and F-score are ill-defined and being set to 0.0 in labels with no predicted samples. Use `zero_division` parameter to control this behavior.\n",
            "  _warn_prf(average, modifier, msg_start, len(result))\n",
            "/usr/local/lib/python3.7/dist-packages/sklearn/metrics/_classification.py:1318: UndefinedMetricWarning: Precision and F-score are ill-defined and being set to 0.0 in labels with no predicted samples. Use `zero_division` parameter to control this behavior.\n",
            "  _warn_prf(average, modifier, msg_start, len(result))\n"
          ]
        },
        {
          "output_type": "stream",
          "name": "stdout",
          "text": [
            "              precision    recall  f1-score   support\n",
            "\n",
            "         1.0       0.37      1.00      0.54        55\n",
            "         2.0       0.00      0.00      0.00        38\n",
            "         3.0       0.00      0.00      0.00        57\n",
            "\n",
            "    accuracy                           0.37       150\n",
            "   macro avg       0.12      0.33      0.18       150\n",
            "weighted avg       0.13      0.37      0.20       150\n",
            "\n"
          ]
        },
        {
          "output_type": "display_data",
          "data": {
            "text/plain": [
              "<Figure size 432x288 with 2 Axes>"
            ],
            "image/png": "[encoded data removed]"
          },
          "metadata": {
            "needs_background": "light"
          }
        },
        {
          "output_type": "stream",
          "name": "stdout",
          "text": [
            "El promedio en validación es de 0.3767\n"
          ]
        }
      ]
    },
    {
      "cell_type": "markdown",
      "source": [
        "Como se pudo notar, tenemos en promodeio de validacion un 0.3147, lo que nos queire decir que el modelo no se esta entrenando correctamente"
      ],
      "metadata": {
        "id": "7th3jJeTSxj7"
      }
    },
    {
      "cell_type": "markdown",
      "source": [
        "## Curva de aprendizaje"
      ],
      "metadata": {
        "id": "soToshGrUFyX"
      }
    },
    {
      "cell_type": "code",
      "source": [
        "#Curva de aprendizaje \n",
        "def plot_learning_curve(\n",
        "    estimator,\n",
        "    title,\n",
        "    X,\n",
        "    y,\n",
        "    axes=None,\n",
        "    ylim=None,\n",
        "    cv=None,\n",
        "    n_jobs=None,\n",
        "    scoring=None,\n",
        "    train_sizes=np.linspace(0.1, 1.0, 5),\n",
        "):\n",
        "    \"\"\"\n",
        "    Genera 3 graficas: La curva de prueba y la curva de aprendizaje, los datos \n",
        "    de entrenamiento vs la curva de tiempos de ajuste, la curva de tiempos de \n",
        "    ajuste frente a la puntuación.\n",
        "\n",
        "    Parameters\n",
        "    ----------\n",
        "    estimator : instancia de estimador. Una instancia de estimador que implementa los métodos `fit` y `predict` \n",
        "    que se clonará para cada validación.\n",
        "\n",
        "    title : str\n",
        "\n",
        "    X : array-like de tamaño (n_samples, n_features)\n",
        "        vector de entrenamiento, donde``n_samples``es el numero de muestras y ``n_features`` es \n",
        "        el número de caracteristicas.\n",
        "\n",
        "    y : array-like de tamaño (n_samples) o (n_samples, n_features)\n",
        "        Objetivo relativo a ``X`` para la clasificación o la regresión;\n",
        "\n",
        "    axes : array-like de tamañoe (3,), default=None\n",
        "        Se implementa para la grafica de la curva.\n",
        "\n",
        "    ylim : tuple de tamaño (2,), default=None\n",
        "\n",
        "    cv : int, generador de validación cruzada o un iterable, por defecto=None\n",
        "        Determina la estrategia de división de la validación cruzada.\n",
        "        Las entradas posibles para cv son:\n",
        "\n",
        "          - None, para utilizar la validación cruzada de 5 pliegues por defecto,\n",
        "          - Entero, para especificar el número de pliegues.\n",
        "          - Un iterable que produce divisiones (tren, prueba) como matrices de índices.\n",
        "\n",
        "    n_jobs : int o None, por defecto=None\n",
        "        Número de trabajos a ejecutar en paralelo.\n",
        "\n",
        "    scoring : str or callable, default=None\n",
        "\n",
        "    train_sizes : tipo array de forma (n_ticks,)\n",
        "        Números relativos o absolutos de muestras de entrenamiento que se utilizarán para\n",
        "        generar la curva de aprendizaje. Si el ``dtype`` es float, se considera\n",
        "        como una fracción del tamaño máximo del conjunto de entrenamiento (que es\n",
        "        (determinado por el método de validación seleccionado), es decir, tiene que estar dentro de\n",
        "        (0, 1]. En caso contrario, se interpreta como el tamaño absoluto de los conjuntos de\n",
        "        de los conjuntos de entrenamiento. Tenga en cuenta que, para la clasificación, el número de muestras \n",
        "        suele ser lo suficientemente grande como para contener al menos una muestra de cada clase.\n",
        "        (por defecto: np.linspace(0.1, 1.0, 5))\n",
        "    \"\"\"\n",
        "    #Se estable los axes\n",
        "    if axes is None:\n",
        "        _, axes = plt.subplots(1, figsize=(10, 10))\n",
        "\n",
        "\n",
        "    axes.set_title(title)\n",
        "    #Se establece y lim \n",
        "    if ylim is not None:\n",
        "        axes.set_ylim(*ylim)\n",
        "    axes.set_xlabel(\"Training examples\")\n",
        "    axes.set_ylabel(\"Score\")\n",
        "\n",
        "    #Se genera la curva de aprendizaje \n",
        "    train_sizes, train_scores, test_scores, fit_times, _ = learning_curve(\n",
        "        estimator,\n",
        "        X,\n",
        "        y,\n",
        "        scoring=scoring,\n",
        "        cv=cv,\n",
        "        n_jobs=n_jobs,\n",
        "        train_sizes=train_sizes,\n",
        "        return_times=True,\n",
        "    )\n",
        "    train_scores_mean = np.mean(train_scores, axis=1)\n",
        "    train_scores_std = np.std(train_scores, axis=1)\n",
        "    test_scores_mean = np.mean(test_scores, axis=1)\n",
        "    test_scores_std = np.std(test_scores, axis=1)\n",
        "    fit_times_mean = np.mean(fit_times, axis=1)\n",
        "    fit_times_std = np.std(fit_times, axis=1)\n",
        "\n",
        "    # Grafico de la curva de aprendizaje\n",
        "    axes.grid()\n",
        "    axes.fill_between(\n",
        "        train_sizes,\n",
        "        train_scores_mean - train_scores_std,\n",
        "        train_scores_mean + train_scores_std,\n",
        "        alpha=0.1,\n",
        "        color=\"r\",\n",
        "    )\n",
        "    axes.fill_between(\n",
        "        train_sizes,\n",
        "        test_scores_mean - test_scores_std,\n",
        "        test_scores_mean + test_scores_std,\n",
        "        alpha=0.1,\n",
        "        color=\"g\",\n",
        "    )\n",
        "    axes.plot(\n",
        "        train_sizes, train_scores_mean, \"o-\", color=\"r\", label=\"Training score\"\n",
        "    )\n",
        "    axes.plot(\n",
        "        train_sizes, test_scores_mean, \"o-\", color=\"g\", label=\"Cross-validation score\"\n",
        "    )\n",
        "    axes.legend(loc=\"best\")\n",
        "\n",
        "    #Se retorna el grafico de la curva de aprendizaje\n",
        "    return plt"
      ],
      "metadata": {
        "id": "6G_P3A0BRgde"
      },
      "execution_count": null,
      "outputs": []
    },
    {
      "cell_type": "code",
      "source": [
        "#Se genera la curva de aprendizaje \n",
        "plot_learning_curve(estimator=logistic_regressionP_clf ,\n",
        "                    X=X_train,\n",
        "                    y=Y_train,\n",
        "                    title='Aprendizaje')\n",
        "plt.show()"
      ],
      "metadata": {
        "colab": {
          "base_uri": "https://localhost:8080/",
          "height": 621
        },
        "id": "MS833RkxR5QQ",
        "outputId": "5adc94eb-ab86-4970-cb97-8755089528e0"
      },
      "execution_count": null,
      "outputs": [
        {
          "output_type": "display_data",
          "data": {
            "text/plain": [
              "<Figure size 720x720 with 1 Axes>"
            ],
            "image/png": "[encoded data removed]"
          },
          "metadata": {
            "needs_background": "light"
          }
        }
      ]
    }
  ]
}